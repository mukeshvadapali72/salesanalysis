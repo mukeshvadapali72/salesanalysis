{
 "cells": [
  {
   "cell_type": "markdown",
   "metadata": {},
   "source": [
    "# <font color=\"orange\">Part 2A- Regression Algorithms</font>"
   ]
  },
  {
   "cell_type": "markdown",
   "metadata": {},
   "source": [
    "## <font color=\"Orange\">Predicting revenue using regression models on smaller dataset</font>"
   ]
  },
  {
   "cell_type": "markdown",
   "metadata": {},
   "source": [
    "# <font color=\"orange\">Data:</font>"
   ]
  },
  {
   "cell_type": "markdown",
   "metadata": {},
   "source": [
    "### <font color=\"blue\">Data for this assignment is the ecommerece sales data collected from my previous company. Data includes the sales from march 2018 to jan 2019(11 months).</font>\n",
    "* Size of the dataset is: (152656, 14)\n",
    "* 152656 rows and 14 columns"
   ]
  },
  {
   "cell_type": "markdown",
   "metadata": {},
   "source": [
    "## <p style=\"color:blue;\">Importing packages</p>"
   ]
  },
  {
   "cell_type": "code",
   "execution_count": 1,
   "metadata": {},
   "outputs": [
    {
     "name": "stderr",
     "output_type": "stream",
     "text": [
      "C:\\Users\\mukes\\AppData\\Local\\Continuum\\anaconda3\\lib\\site-packages\\statsmodels\\tools\\_testing.py:19: FutureWarning: pandas.util.testing is deprecated. Use the functions in the public API at pandas.testing instead.\n",
      "  import pandas.util.testing as tm\n"
     ]
    }
   ],
   "source": [
    "# to handle datasets\n",
    "import pandas as pd\n",
    "import numpy as np\n",
    "\n",
    "# for plotting\n",
    "import altair as alt\n",
    "import seaborn as sns\n",
    "import matplotlib.pyplot as plt\n",
    "from sklearn.model_selection import train_test_split\n",
    "# to display all the columns of the dataframe in the notebook\n",
    "pd.pandas.set_option('display.max_columns', None)\n"
   ]
  },
  {
   "cell_type": "markdown",
   "metadata": {},
   "source": [
    "## <p style=\"color:blue;\">Loading/reading dataset</p>"
   ]
  },
  {
   "cell_type": "code",
   "execution_count": 2,
   "metadata": {},
   "outputs": [
    {
     "name": "stdout",
     "output_type": "stream",
     "text": [
      "(152656, 14)\n"
     ]
    },
    {
     "data": {
      "text/html": [
       "<div>\n",
       "<style scoped>\n",
       "    .dataframe tbody tr th:only-of-type {\n",
       "        vertical-align: middle;\n",
       "    }\n",
       "\n",
       "    .dataframe tbody tr th {\n",
       "        vertical-align: top;\n",
       "    }\n",
       "\n",
       "    .dataframe thead th {\n",
       "        text-align: right;\n",
       "    }\n",
       "</style>\n",
       "<table border=\"1\" class=\"dataframe\">\n",
       "  <thead>\n",
       "    <tr style=\"text-align: right;\">\n",
       "      <th></th>\n",
       "      <th>storename</th>\n",
       "      <th>shop101shareid</th>\n",
       "      <th>productcategoryname</th>\n",
       "      <th>customer id</th>\n",
       "      <th>suborderid</th>\n",
       "      <th>storeid</th>\n",
       "      <th>productid</th>\n",
       "      <th>suborderamount</th>\n",
       "      <th>storesubscriptionid</th>\n",
       "      <th>ordertime</th>\n",
       "      <th>orderdate</th>\n",
       "      <th>productvariantid</th>\n",
       "      <th>ordercustomer_state</th>\n",
       "      <th>Amountineuro</th>\n",
       "    </tr>\n",
       "  </thead>\n",
       "  <tbody>\n",
       "    <tr>\n",
       "      <th>0</th>\n",
       "      <td>Be fashionable</td>\n",
       "      <td>kf3oyt</td>\n",
       "      <td>MEN'S SHIRTS</td>\n",
       "      <td>5478710961</td>\n",
       "      <td>7484325044</td>\n",
       "      <td>7928087698</td>\n",
       "      <td>4795740980</td>\n",
       "      <td>389</td>\n",
       "      <td>5140712854</td>\n",
       "      <td>44:51.7</td>\n",
       "      <td>25/01/2019</td>\n",
       "      <td>6379927877</td>\n",
       "      <td>WEST BENGAL</td>\n",
       "      <td>4.86</td>\n",
       "    </tr>\n",
       "    <tr>\n",
       "      <th>1</th>\n",
       "      <td>Your_lil_shop__</td>\n",
       "      <td>spu8qw</td>\n",
       "      <td>FUNKY TEES</td>\n",
       "      <td>7661538618</td>\n",
       "      <td>7788851034</td>\n",
       "      <td>5451512228</td>\n",
       "      <td>7459560314</td>\n",
       "      <td>314</td>\n",
       "      <td>6741316570</td>\n",
       "      <td>44:01.0</td>\n",
       "      <td>25/01/2019</td>\n",
       "      <td>7589421632</td>\n",
       "      <td>GUJARAT</td>\n",
       "      <td>3.93</td>\n",
       "    </tr>\n",
       "    <tr>\n",
       "      <th>2</th>\n",
       "      <td>Your_lil_shop__</td>\n",
       "      <td>spu8qw</td>\n",
       "      <td>FUNKY TEES</td>\n",
       "      <td>7661538618</td>\n",
       "      <td>7170390857</td>\n",
       "      <td>5451512228</td>\n",
       "      <td>7140021209</td>\n",
       "      <td>314</td>\n",
       "      <td>6741316570</td>\n",
       "      <td>44:01.0</td>\n",
       "      <td>25/01/2019</td>\n",
       "      <td>5791958141</td>\n",
       "      <td>GUJARAT</td>\n",
       "      <td>3.93</td>\n",
       "    </tr>\n",
       "    <tr>\n",
       "      <th>3</th>\n",
       "      <td>Your_lil_shop__</td>\n",
       "      <td>spu8qw</td>\n",
       "      <td>FUNKY TEES</td>\n",
       "      <td>7661538618</td>\n",
       "      <td>7791817801</td>\n",
       "      <td>5451512228</td>\n",
       "      <td>7572567264</td>\n",
       "      <td>314</td>\n",
       "      <td>6741316570</td>\n",
       "      <td>44:01.0</td>\n",
       "      <td>25/01/2019</td>\n",
       "      <td>5880839812</td>\n",
       "      <td>GUJARAT</td>\n",
       "      <td>3.93</td>\n",
       "    </tr>\n",
       "    <tr>\n",
       "      <th>4</th>\n",
       "      <td>Your_lil_shop__</td>\n",
       "      <td>spu8qw</td>\n",
       "      <td>FUNKY TEES</td>\n",
       "      <td>7661538618</td>\n",
       "      <td>6334463633</td>\n",
       "      <td>5451512228</td>\n",
       "      <td>5751967262</td>\n",
       "      <td>314</td>\n",
       "      <td>6741316570</td>\n",
       "      <td>44:01.0</td>\n",
       "      <td>25/01/2019</td>\n",
       "      <td>5537629825</td>\n",
       "      <td>GUJARAT</td>\n",
       "      <td>3.93</td>\n",
       "    </tr>\n",
       "  </tbody>\n",
       "</table>\n",
       "</div>"
      ],
      "text/plain": [
       "         storename shop101shareid productcategoryname  customer id  \\\n",
       "0   Be fashionable         kf3oyt        MEN'S SHIRTS   5478710961   \n",
       "1  Your_lil_shop__         spu8qw          FUNKY TEES   7661538618   \n",
       "2  Your_lil_shop__         spu8qw          FUNKY TEES   7661538618   \n",
       "3  Your_lil_shop__         spu8qw          FUNKY TEES   7661538618   \n",
       "4  Your_lil_shop__         spu8qw          FUNKY TEES   7661538618   \n",
       "\n",
       "   suborderid     storeid   productid  suborderamount  storesubscriptionid  \\\n",
       "0  7484325044  7928087698  4795740980             389           5140712854   \n",
       "1  7788851034  5451512228  7459560314             314           6741316570   \n",
       "2  7170390857  5451512228  7140021209             314           6741316570   \n",
       "3  7791817801  5451512228  7572567264             314           6741316570   \n",
       "4  6334463633  5451512228  5751967262             314           6741316570   \n",
       "\n",
       "  ordertime   orderdate  productvariantid ordercustomer_state  Amountineuro  \n",
       "0   44:51.7  25/01/2019        6379927877         WEST BENGAL          4.86  \n",
       "1   44:01.0  25/01/2019        7589421632             GUJARAT          3.93  \n",
       "2   44:01.0  25/01/2019        5791958141             GUJARAT          3.93  \n",
       "3   44:01.0  25/01/2019        5880839812             GUJARAT          3.93  \n",
       "4   44:01.0  25/01/2019        5537629825             GUJARAT          3.93  "
      ]
     },
     "execution_count": 2,
     "metadata": {},
     "output_type": "execute_result"
    }
   ],
   "source": [
    "# load dataset\n",
    "data = pd.read_csv('facebook dae.csv',encoding='ISO-8859-1')\n",
    "\n",
    "# rows and columns of the data\n",
    "print(data.shape)\n",
    "\n",
    "# visualise the dataset\n",
    "data.head()"
   ]
  },
  {
   "cell_type": "code",
   "execution_count": 3,
   "metadata": {},
   "outputs": [],
   "source": [
    "## Reversing the rows to bring the past sales values to the top\n",
    "data=data.loc[::-1].reset_index(drop=True)"
   ]
  },
  {
   "cell_type": "code",
   "execution_count": 4,
   "metadata": {},
   "outputs": [],
   "source": [
    "## Order date column to date time format - days/month/year\n",
    "data.orderdate=pd.to_datetime(data['orderdate'], format='%d/%m/%Y')"
   ]
  },
  {
   "cell_type": "code",
   "execution_count": 5,
   "metadata": {},
   "outputs": [],
   "source": [
    "data['Date'] = data['orderdate'].dt.date\n",
    "data['Day'] = data['orderdate'].dt.day\n",
    "data['Month'] = data['orderdate'].dt.month\n",
    "data['week'] =data['orderdate'].dt.week\n",
    "data['year'] =data['orderdate'].dt.year"
   ]
  },
  {
   "cell_type": "markdown",
   "metadata": {},
   "source": [
    "## <p style=\"color:blue;\">Preprocessing data(grouping the data and aggregating revenue and storename columns accordingly)</p>"
   ]
  },
  {
   "cell_type": "code",
   "execution_count": 6,
   "metadata": {},
   "outputs": [
    {
     "name": "stderr",
     "output_type": "stream",
     "text": [
      "C:\\Users\\mukes\\AppData\\Local\\Continuum\\anaconda3\\lib\\site-packages\\ipykernel_launcher.py:1: FutureWarning: Indexing with multiple keys (implicitly converted to a tuple of keys) will be deprecated, use a list instead.\n",
      "  \"\"\"Entry point for launching an IPython kernel.\n"
     ]
    }
   ],
   "source": [
    "datanew=data.groupby(['orderdate','Month','storeid','productid','storename','productcategoryname','customer id','suborderamount','storesubscriptionid','productvariantid','ordercustomer_state','Day','week','year'])['storename','Amountineuro'].agg({'Amountineuro':'sum','storename':'count'})\n",
    "datanew['revenue'] = datanew['Amountineuro'] * datanew['storename']\n",
    "data=datanew.drop(['Amountineuro','storename'],axis=1)\n",
    "data=data.reset_index()"
   ]
  },
  {
   "cell_type": "markdown",
   "metadata": {},
   "source": [
    "## <p style=\"color:blue;\">Basic EDA (Exploratory Data Analysis)</p>"
   ]
  },
  {
   "cell_type": "markdown",
   "metadata": {},
   "source": [
    "### States with highest number of sales"
   ]
  },
  {
   "cell_type": "code",
   "execution_count": 7,
   "metadata": {},
   "outputs": [
    {
     "data": {
      "image/png": "[encoded data removed]",
      "text/plain": [
       "<Figure size 1296x432 with 1 Axes>"
      ]
     },
     "metadata": {
      "needs_background": "light"
     },
     "output_type": "display_data"
    }
   ],
   "source": [
    "states = data['ordercustomer_state'].value_counts().sort_values(ascending=False).iloc[0:15]\n",
    "plt.figure(figsize=(18,6))\n",
    "sns.barplot(states.index, states.values, palette=sns.cubehelix_palette(15))\n",
    "plt.ylabel(\"Counts\")\n",
    "plt.title(\"Top 15 States in India with highest number of sales\");\n",
    "plt.xticks(rotation=90);"
   ]
  },
  {
   "cell_type": "markdown",
   "metadata": {},
   "source": [
    "### Items brought more often"
   ]
  },
  {
   "cell_type": "code",
   "execution_count": 8,
   "metadata": {},
   "outputs": [
    {
     "data": {
      "image/png": "[encoded data removed]",
      "text/plain": [
       "<Figure size 1296x432 with 1 Axes>"
      ]
     },
     "metadata": {
      "needs_background": "light"
     },
     "output_type": "display_data"
    }
   ],
   "source": [
    "item_counts = data['productcategoryname'].value_counts().sort_values(ascending=False).iloc[0:15]\n",
    "plt.figure(figsize=(18,6))\n",
    "sns.barplot(item_counts.index, item_counts.values, palette=sns.cubehelix_palette(15))\n",
    "plt.ylabel(\"Counts\")\n",
    "plt.title(\"Which items were bought more often?\");\n",
    "plt.xticks(rotation=90);"
   ]
  },
  {
   "cell_type": "markdown",
   "metadata": {},
   "source": [
    "## <font color=\"blue\">Analysing the dataset further to identify:</font>\n",
    "\n",
    "* Missing values\n",
    "* Numerical variables\n",
    "* Outliers\n",
    "* Categorical variables\n",
    "* Variable correlation analysis\n",
    "* MinMax Scaler and Cat-encoding\n",
    "* Potential relationship between the variables and the target: Revenue (feature selection)\n",
    "* Overfitting"
   ]
  },
  {
   "cell_type": "markdown",
   "metadata": {},
   "source": [
    "### <p style=\"color:blue;\">Missing value</p>"
   ]
  },
  {
   "cell_type": "code",
   "execution_count": 9,
   "metadata": {},
   "outputs": [
    {
     "data": {
      "text/plain": [
       "Series([], dtype: float64)"
      ]
     },
     "execution_count": 9,
     "metadata": {},
     "output_type": "execute_result"
    }
   ],
   "source": [
    "# make a list of the variables that contain missing values\n",
    "vars_with_na = [var for var in data.columns if data[var].isnull().sum() > 0]\n",
    "\n",
    "# determine percentage of missing values\n",
    "data[vars_with_na].isnull().mean()"
   ]
  },
  {
   "cell_type": "markdown",
   "metadata": {},
   "source": [
    "#### <font color=\"red\">No Null values in the data.</font>"
   ]
  },
  {
   "cell_type": "markdown",
   "metadata": {},
   "source": [
    "### <p style=\"color:blue;\">Numerical variables</p>\n",
    "### Checking the numerical variables in the dataset"
   ]
  },
  {
   "cell_type": "code",
   "execution_count": 10,
   "metadata": {},
   "outputs": [
    {
     "name": "stdout",
     "output_type": "stream",
     "text": [
      "Number of numerical variables:  12\n"
     ]
    },
    {
     "data": {
      "text/html": [
       "<div>\n",
       "<style scoped>\n",
       "    .dataframe tbody tr th:only-of-type {\n",
       "        vertical-align: middle;\n",
       "    }\n",
       "\n",
       "    .dataframe tbody tr th {\n",
       "        vertical-align: top;\n",
       "    }\n",
       "\n",
       "    .dataframe thead th {\n",
       "        text-align: right;\n",
       "    }\n",
       "</style>\n",
       "<table border=\"1\" class=\"dataframe\">\n",
       "  <thead>\n",
       "    <tr style=\"text-align: right;\">\n",
       "      <th></th>\n",
       "      <th>orderdate</th>\n",
       "      <th>Month</th>\n",
       "      <th>storeid</th>\n",
       "      <th>productid</th>\n",
       "      <th>customer id</th>\n",
       "      <th>suborderamount</th>\n",
       "      <th>storesubscriptionid</th>\n",
       "      <th>productvariantid</th>\n",
       "      <th>Day</th>\n",
       "      <th>week</th>\n",
       "      <th>year</th>\n",
       "      <th>revenue</th>\n",
       "    </tr>\n",
       "  </thead>\n",
       "  <tbody>\n",
       "    <tr>\n",
       "      <th>0</th>\n",
       "      <td>2018-03-15</td>\n",
       "      <td>3</td>\n",
       "      <td>2556</td>\n",
       "      <td>4304379107</td>\n",
       "      <td>5499103969</td>\n",
       "      <td>1749</td>\n",
       "      <td>5873495418</td>\n",
       "      <td>8185605295</td>\n",
       "      <td>15</td>\n",
       "      <td>11</td>\n",
       "      <td>2018</td>\n",
       "      <td>21.86</td>\n",
       "    </tr>\n",
       "    <tr>\n",
       "      <th>1</th>\n",
       "      <td>2018-03-15</td>\n",
       "      <td>3</td>\n",
       "      <td>2556</td>\n",
       "      <td>6092254397</td>\n",
       "      <td>7496158477</td>\n",
       "      <td>499</td>\n",
       "      <td>5873495418</td>\n",
       "      <td>6808865525</td>\n",
       "      <td>15</td>\n",
       "      <td>11</td>\n",
       "      <td>2018</td>\n",
       "      <td>6.24</td>\n",
       "    </tr>\n",
       "    <tr>\n",
       "      <th>2</th>\n",
       "      <td>2018-03-16</td>\n",
       "      <td>3</td>\n",
       "      <td>2556</td>\n",
       "      <td>5532918770</td>\n",
       "      <td>8461206017</td>\n",
       "      <td>739</td>\n",
       "      <td>5873495418</td>\n",
       "      <td>4629654488</td>\n",
       "      <td>16</td>\n",
       "      <td>11</td>\n",
       "      <td>2018</td>\n",
       "      <td>9.24</td>\n",
       "    </tr>\n",
       "    <tr>\n",
       "      <th>3</th>\n",
       "      <td>2018-03-16</td>\n",
       "      <td>3</td>\n",
       "      <td>2556</td>\n",
       "      <td>7892444488</td>\n",
       "      <td>8143091263</td>\n",
       "      <td>449</td>\n",
       "      <td>5873495418</td>\n",
       "      <td>6185966029</td>\n",
       "      <td>16</td>\n",
       "      <td>11</td>\n",
       "      <td>2018</td>\n",
       "      <td>5.61</td>\n",
       "    </tr>\n",
       "    <tr>\n",
       "      <th>4</th>\n",
       "      <td>2018-03-16</td>\n",
       "      <td>3</td>\n",
       "      <td>4520509807</td>\n",
       "      <td>4481099427</td>\n",
       "      <td>6325800495</td>\n",
       "      <td>138</td>\n",
       "      <td>5892090524</td>\n",
       "      <td>7518001277</td>\n",
       "      <td>16</td>\n",
       "      <td>11</td>\n",
       "      <td>2018</td>\n",
       "      <td>1.73</td>\n",
       "    </tr>\n",
       "  </tbody>\n",
       "</table>\n",
       "</div>"
      ],
      "text/plain": [
       "   orderdate  Month     storeid   productid  customer id  suborderamount  \\\n",
       "0 2018-03-15      3        2556  4304379107   5499103969            1749   \n",
       "1 2018-03-15      3        2556  6092254397   7496158477             499   \n",
       "2 2018-03-16      3        2556  5532918770   8461206017             739   \n",
       "3 2018-03-16      3        2556  7892444488   8143091263             449   \n",
       "4 2018-03-16      3  4520509807  4481099427   6325800495             138   \n",
       "\n",
       "   storesubscriptionid  productvariantid  Day  week  year  revenue  \n",
       "0           5873495418        8185605295   15    11  2018    21.86  \n",
       "1           5873495418        6808865525   15    11  2018     6.24  \n",
       "2           5873495418        4629654488   16    11  2018     9.24  \n",
       "3           5873495418        6185966029   16    11  2018     5.61  \n",
       "4           5892090524        7518001277   16    11  2018     1.73  "
      ]
     },
     "execution_count": 10,
     "metadata": {},
     "output_type": "execute_result"
    }
   ],
   "source": [
    "\n",
    "num_vars = [var for var in data.columns if data[var].dtypes != 'O'] #not equal to object type.\n",
    "\n",
    "print('Number of numerical variables: ', len(num_vars))\n",
    "\n",
    "\n",
    "data[num_vars].head()"
   ]
  },
  {
   "cell_type": "markdown",
   "metadata": {},
   "source": [
    "## Discrete variable analysis"
   ]
  },
  {
   "cell_type": "code",
   "execution_count": 11,
   "metadata": {},
   "outputs": [
    {
     "name": "stdout",
     "output_type": "stream",
     "text": [
      "Number of discrete variables:  2\n"
     ]
    }
   ],
   "source": [
    "#  let's male a list of discrete variables\n",
    "discrete_vars = [var for var in num_vars if len(\n",
    "    data[var].unique()) < 20 ]\n",
    "\n",
    "\n",
    "print('Number of discrete variables: ', len(discrete_vars))"
   ]
  },
  {
   "cell_type": "code",
   "execution_count": 12,
   "metadata": {},
   "outputs": [
    {
     "data": {
      "image/png": "[encoded data removed]",
      "text/plain": [
       "<Figure size 432x288 with 1 Axes>"
      ]
     },
     "metadata": {
      "needs_background": "light"
     },
     "output_type": "display_data"
    },
    {
     "data": {
      "image/png": "[encoded data removed]",
      "text/plain": [
       "<Figure size 432x288 with 1 Axes>"
      ]
     },
     "metadata": {
      "needs_background": "light"
     },
     "output_type": "display_data"
    }
   ],
   "source": [
    "def analyse_discrete(df, var):\n",
    "    df = df.copy()\n",
    "    df.groupby(var)['revenue'].median().plot.bar()\n",
    "    plt.title(var)\n",
    "    plt.ylabel('Median revenue')\n",
    "    plt.show()\n",
    "    \n",
    "for var in discrete_vars:\n",
    "    analyse_discrete(data, var)"
   ]
  },
  {
   "cell_type": "markdown",
   "metadata": {},
   "source": [
    "## Continous variable"
   ]
  },
  {
   "cell_type": "code",
   "execution_count": 13,
   "metadata": {},
   "outputs": [],
   "source": [
    "contvar = ['Day','week','revenue']"
   ]
  },
  {
   "cell_type": "code",
   "execution_count": 14,
   "metadata": {},
   "outputs": [
    {
     "name": "stdout",
     "output_type": "stream",
     "text": [
      "Number of continuous variables:  10\n"
     ]
    }
   ],
   "source": [
    "cont_vars = [\n",
    "    var for var in num_vars if var not in discrete_vars]\n",
    "\n",
    "print('Number of continuous variables: ', len(cont_vars))"
   ]
  },
  {
   "cell_type": "code",
   "execution_count": 15,
   "metadata": {},
   "outputs": [
    {
     "data": {
      "image/png": "[encoded data removed]",
      "text/plain": [
       "<Figure size 432x288 with 1 Axes>"
      ]
     },
     "metadata": {
      "needs_background": "light"
     },
     "output_type": "display_data"
    },
    {
     "data": {
      "image/png": "[encoded data removed]",
      "text/plain": [
       "<Figure size 432x288 with 1 Axes>"
      ]
     },
     "metadata": {
      "needs_background": "light"
     },
     "output_type": "display_data"
    },
    {
     "data": {
      "image/png": "[encoded data removed]",
      "text/plain": [
       "<Figure size 432x288 with 1 Axes>"
      ]
     },
     "metadata": {
      "needs_background": "light"
     },
     "output_type": "display_data"
    }
   ],
   "source": [
    "# Selecting only Days and week to analyse the number of product sold in each day and week\n",
    "def analyse_continuous(df, var):\n",
    "    df = df.copy()\n",
    "    df[var].hist(bins=20)\n",
    "    plt.ylabel('Revenue')\n",
    "    plt.xlabel(var)\n",
    "    plt.title(var)\n",
    "    plt.show()\n",
    "\n",
    "\n",
    "for var in contvar:\n",
    "    analyse_continuous(data, var)"
   ]
  },
  {
   "cell_type": "markdown",
   "metadata": {},
   "source": [
    "### <font color=\"red\">First day of every month has highest sales compare to other days.</font>\n"
   ]
  },
  {
   "cell_type": "markdown",
   "metadata": {},
   "source": [
    "## <font color=\"blue\">Outlier Analysis</font>"
   ]
  },
  {
   "cell_type": "code",
   "execution_count": 16,
   "metadata": {},
   "outputs": [
    {
     "name": "stdout",
     "output_type": "stream",
     "text": [
      "<class 'pandas.core.frame.DataFrame'>\n",
      "RangeIndex: 148738 entries, 0 to 148737\n",
      "Data columns (total 15 columns):\n",
      " #   Column               Non-Null Count   Dtype         \n",
      "---  ------               --------------   -----         \n",
      " 0   orderdate            148738 non-null  datetime64[ns]\n",
      " 1   Month                148738 non-null  int64         \n",
      " 2   storeid              148738 non-null  int64         \n",
      " 3   productid            148738 non-null  int64         \n",
      " 4   storename            148738 non-null  object        \n",
      " 5   productcategoryname  148738 non-null  object        \n",
      " 6   customer id          148738 non-null  int64         \n",
      " 7   suborderamount       148738 non-null  int64         \n",
      " 8   storesubscriptionid  148738 non-null  int64         \n",
      " 9   productvariantid     148738 non-null  int64         \n",
      " 10  ordercustomer_state  148738 non-null  object        \n",
      " 11  Day                  148738 non-null  int64         \n",
      " 12  week                 148738 non-null  int64         \n",
      " 13  year                 148738 non-null  int64         \n",
      " 14  revenue              148738 non-null  float64       \n",
      "dtypes: datetime64[ns](1), float64(1), int64(10), object(3)\n",
      "memory usage: 17.0+ MB\n"
     ]
    }
   ],
   "source": [
    "data.info()"
   ]
  },
  {
   "cell_type": "code",
   "execution_count": 17,
   "metadata": {},
   "outputs": [],
   "source": [
    "#dropping the orderdate column\n",
    "data_wo = data.drop('orderdate',axis=1)"
   ]
  },
  {
   "cell_type": "code",
   "execution_count": 18,
   "metadata": {},
   "outputs": [],
   "source": [
    "#Boxplots to visualise outliers in the continuous variables\n",
    "def find_outliers(df, var):\n",
    "    df = df.copy()\n",
    "\n",
    "   \n",
    "    if any(data[var] <= 0):\n",
    "        pass\n",
    "    else:\n",
    "        df[var] = np.log(df[var])\n",
    "        df.boxplot(column=var)\n",
    "        plt.title(var)\n",
    "        plt.ylabel(var)\n",
    "        plt.show()\n",
    "\n"
   ]
  },
  {
   "cell_type": "code",
   "execution_count": 19,
   "metadata": {},
   "outputs": [
    {
     "data": {
      "image/png": "[encoded data removed]",
      "text/plain": [
       "<Figure size 432x288 with 1 Axes>"
      ]
     },
     "metadata": {
      "needs_background": "light"
     },
     "output_type": "display_data"
    },
    {
     "data": {
      "image/png": "[encoded data removed]",
      "text/plain": [
       "<Figure size 432x288 with 1 Axes>"
      ]
     },
     "metadata": {
      "needs_background": "light"
     },
     "output_type": "display_data"
    },
    {
     "data": {
      "image/png": "[encoded data removed]",
      "text/plain": [
       "<Figure size 432x288 with 1 Axes>"
      ]
     },
     "metadata": {
      "needs_background": "light"
     },
     "output_type": "display_data"
    },
    {
     "data": {
      "image/png": "[encoded data removed]",
      "text/plain": [
       "<Figure size 432x288 with 1 Axes>"
      ]
     },
     "metadata": {
      "needs_background": "light"
     },
     "output_type": "display_data"
    },
    {
     "data": {
      "image/png": "[encoded data removed]",
      "text/plain": [
       "<Figure size 432x288 with 1 Axes>"
      ]
     },
     "metadata": {
      "needs_background": "light"
     },
     "output_type": "display_data"
    },
    {
     "data": {
      "image/png": "[encoded data removed]",
      "text/plain": [
       "<Figure size 432x288 with 1 Axes>"
      ]
     },
     "metadata": {
      "needs_background": "light"
     },
     "output_type": "display_data"
    },
    {
     "data": {
      "image/png": "[encoded data removed]",
      "text/plain": [
       "<Figure size 432x288 with 1 Axes>"
      ]
     },
     "metadata": {
      "needs_background": "light"
     },
     "output_type": "display_data"
    },
    {
     "data": {
      "image/png": "[encoded data removed]",
      "text/plain": [
       "<Figure size 432x288 with 1 Axes>"
      ]
     },
     "metadata": {
      "needs_background": "light"
     },
     "output_type": "display_data"
    },
    {
     "data": {
      "image/png": "[encoded data removed]",
      "text/plain": [
       "<Figure size 432x288 with 1 Axes>"
      ]
     },
     "metadata": {
      "needs_background": "light"
     },
     "output_type": "display_data"
    }
   ],
   "source": [
    "cont_vars.remove('orderdate')\n",
    "for var in cont_vars:\n",
    "    find_outliers(data_wo, var)"
   ]
  },
  {
   "cell_type": "markdown",
   "metadata": {},
   "source": [
    "###  <font color=\"red\">According to outlier analysis suborderamount has high numbers of outliers and it can effect the regression models.</font>"
   ]
  },
  {
   "cell_type": "code",
   "execution_count": 20,
   "metadata": {},
   "outputs": [
    {
     "name": "stdout",
     "output_type": "stream",
     "text": [
      "579     18182\n",
      "399      7403\n",
      "499      7335\n",
      "420      7313\n",
      "379      5805\n",
      "        ...  \n",
      "5530        1\n",
      "1349        1\n",
      "920         1\n",
      "198         1\n",
      "128         1\n",
      "Name: suborderamount, Length: 770, dtype: int64\n"
     ]
    },
    {
     "data": {
      "text/html": [
       "<div>\n",
       "<style scoped>\n",
       "    .dataframe tbody tr th:only-of-type {\n",
       "        vertical-align: middle;\n",
       "    }\n",
       "\n",
       "    .dataframe tbody tr th {\n",
       "        vertical-align: top;\n",
       "    }\n",
       "\n",
       "    .dataframe thead th {\n",
       "        text-align: right;\n",
       "    }\n",
       "</style>\n",
       "<table border=\"1\" class=\"dataframe\">\n",
       "  <thead>\n",
       "    <tr style=\"text-align: right;\">\n",
       "      <th></th>\n",
       "      <th>orderdate</th>\n",
       "      <th>Month</th>\n",
       "      <th>storeid</th>\n",
       "      <th>productid</th>\n",
       "      <th>storename</th>\n",
       "      <th>productcategoryname</th>\n",
       "      <th>customer id</th>\n",
       "      <th>suborderamount</th>\n",
       "      <th>storesubscriptionid</th>\n",
       "      <th>productvariantid</th>\n",
       "      <th>ordercustomer_state</th>\n",
       "      <th>Day</th>\n",
       "      <th>week</th>\n",
       "      <th>year</th>\n",
       "      <th>revenue</th>\n",
       "    </tr>\n",
       "  </thead>\n",
       "  <tbody>\n",
       "    <tr>\n",
       "      <th>0</th>\n",
       "      <td>2018-03-15</td>\n",
       "      <td>3</td>\n",
       "      <td>2556</td>\n",
       "      <td>4304379107</td>\n",
       "      <td>brand box</td>\n",
       "      <td>Branded watches</td>\n",
       "      <td>5499103969</td>\n",
       "      <td>1749</td>\n",
       "      <td>5873495418</td>\n",
       "      <td>8185605295</td>\n",
       "      <td>TAMIL NADU</td>\n",
       "      <td>15</td>\n",
       "      <td>11</td>\n",
       "      <td>2018</td>\n",
       "      <td>21.86</td>\n",
       "    </tr>\n",
       "    <tr>\n",
       "      <th>49</th>\n",
       "      <td>2018-03-21</td>\n",
       "      <td>3</td>\n",
       "      <td>6204819496</td>\n",
       "      <td>4924407052</td>\n",
       "      <td>Best Sneaker Deals</td>\n",
       "      <td>Casual Shoes</td>\n",
       "      <td>4515829621</td>\n",
       "      <td>1499</td>\n",
       "      <td>4876921363</td>\n",
       "      <td>4819823354</td>\n",
       "      <td>UTTAR PRADESH</td>\n",
       "      <td>21</td>\n",
       "      <td>12</td>\n",
       "      <td>2018</td>\n",
       "      <td>18.74</td>\n",
       "    </tr>\n",
       "    <tr>\n",
       "      <th>50</th>\n",
       "      <td>2018-03-21</td>\n",
       "      <td>3</td>\n",
       "      <td>6204819496</td>\n",
       "      <td>4924407052</td>\n",
       "      <td>Best Sneaker Deals</td>\n",
       "      <td>Casual Shoes</td>\n",
       "      <td>6591761496</td>\n",
       "      <td>1499</td>\n",
       "      <td>4876921363</td>\n",
       "      <td>5345815603</td>\n",
       "      <td>UTTARAKHAND</td>\n",
       "      <td>21</td>\n",
       "      <td>12</td>\n",
       "      <td>2018</td>\n",
       "      <td>18.74</td>\n",
       "    </tr>\n",
       "    <tr>\n",
       "      <th>51</th>\n",
       "      <td>2018-03-21</td>\n",
       "      <td>3</td>\n",
       "      <td>6204819496</td>\n",
       "      <td>5696453597</td>\n",
       "      <td>Best Sneaker Deals</td>\n",
       "      <td>Sports Shoes</td>\n",
       "      <td>7514461036</td>\n",
       "      <td>1899</td>\n",
       "      <td>4876921363</td>\n",
       "      <td>7357976432</td>\n",
       "      <td>KARNATAKA</td>\n",
       "      <td>21</td>\n",
       "      <td>12</td>\n",
       "      <td>2018</td>\n",
       "      <td>23.74</td>\n",
       "    </tr>\n",
       "    <tr>\n",
       "      <th>52</th>\n",
       "      <td>2018-03-21</td>\n",
       "      <td>3</td>\n",
       "      <td>6204819496</td>\n",
       "      <td>7909416502</td>\n",
       "      <td>Best Sneaker Deals</td>\n",
       "      <td>Sports Shoes</td>\n",
       "      <td>5579253250</td>\n",
       "      <td>1999</td>\n",
       "      <td>4876921363</td>\n",
       "      <td>8044645272</td>\n",
       "      <td>MADHYA PRADESH</td>\n",
       "      <td>21</td>\n",
       "      <td>12</td>\n",
       "      <td>2018</td>\n",
       "      <td>24.99</td>\n",
       "    </tr>\n",
       "    <tr>\n",
       "      <th>...</th>\n",
       "      <td>...</td>\n",
       "      <td>...</td>\n",
       "      <td>...</td>\n",
       "      <td>...</td>\n",
       "      <td>...</td>\n",
       "      <td>...</td>\n",
       "      <td>...</td>\n",
       "      <td>...</td>\n",
       "      <td>...</td>\n",
       "      <td>...</td>\n",
       "      <td>...</td>\n",
       "      <td>...</td>\n",
       "      <td>...</td>\n",
       "      <td>...</td>\n",
       "      <td>...</td>\n",
       "    </tr>\n",
       "    <tr>\n",
       "      <th>145645</th>\n",
       "      <td>2019-01-22</td>\n",
       "      <td>1</td>\n",
       "      <td>5705944516</td>\n",
       "      <td>6098122048</td>\n",
       "      <td>Yuva Shopping</td>\n",
       "      <td>Men's winter collection.</td>\n",
       "      <td>8111183194</td>\n",
       "      <td>1550</td>\n",
       "      <td>7023873821</td>\n",
       "      <td>5329153881</td>\n",
       "      <td>MAHARASHTRA</td>\n",
       "      <td>22</td>\n",
       "      <td>4</td>\n",
       "      <td>2019</td>\n",
       "      <td>19.38</td>\n",
       "    </tr>\n",
       "    <tr>\n",
       "      <th>145844</th>\n",
       "      <td>2019-01-22</td>\n",
       "      <td>1</td>\n",
       "      <td>6576661056</td>\n",
       "      <td>5435553122</td>\n",
       "      <td>Abcustoms</td>\n",
       "      <td>MEN'S SHIRTS</td>\n",
       "      <td>5958481152</td>\n",
       "      <td>1247</td>\n",
       "      <td>6635666215</td>\n",
       "      <td>5048410423</td>\n",
       "      <td>MAHARASHTRA</td>\n",
       "      <td>22</td>\n",
       "      <td>4</td>\n",
       "      <td>2019</td>\n",
       "      <td>15.59</td>\n",
       "    </tr>\n",
       "    <tr>\n",
       "      <th>145862</th>\n",
       "      <td>2019-01-22</td>\n",
       "      <td>1</td>\n",
       "      <td>6576661056</td>\n",
       "      <td>5435553122</td>\n",
       "      <td>Abcustoms</td>\n",
       "      <td>MEN'S SHIRTS</td>\n",
       "      <td>6465579528</td>\n",
       "      <td>1247</td>\n",
       "      <td>6635666215</td>\n",
       "      <td>5048410423</td>\n",
       "      <td>BIHAR</td>\n",
       "      <td>22</td>\n",
       "      <td>4</td>\n",
       "      <td>2019</td>\n",
       "      <td>15.59</td>\n",
       "    </tr>\n",
       "    <tr>\n",
       "      <th>147818</th>\n",
       "      <td>2019-01-24</td>\n",
       "      <td>1</td>\n",
       "      <td>5992411172</td>\n",
       "      <td>6355171057</td>\n",
       "      <td>REGIUM</td>\n",
       "      <td>WOMEN'S LATEST TRACKSUIT</td>\n",
       "      <td>6080837799</td>\n",
       "      <td>1348</td>\n",
       "      <td>7488846800</td>\n",
       "      <td>4938414201</td>\n",
       "      <td>ASSAM</td>\n",
       "      <td>24</td>\n",
       "      <td>4</td>\n",
       "      <td>2019</td>\n",
       "      <td>16.85</td>\n",
       "    </tr>\n",
       "    <tr>\n",
       "      <th>147918</th>\n",
       "      <td>2019-01-24</td>\n",
       "      <td>1</td>\n",
       "      <td>6576661056</td>\n",
       "      <td>5435553122</td>\n",
       "      <td>Abcustoms</td>\n",
       "      <td>MEN'S SHIRTS</td>\n",
       "      <td>4659193880</td>\n",
       "      <td>1247</td>\n",
       "      <td>6635666215</td>\n",
       "      <td>6998086462</td>\n",
       "      <td>TELANGANA</td>\n",
       "      <td>24</td>\n",
       "      <td>4</td>\n",
       "      <td>2019</td>\n",
       "      <td>15.59</td>\n",
       "    </tr>\n",
       "  </tbody>\n",
       "</table>\n",
       "<p>464 rows × 15 columns</p>\n",
       "</div>"
      ],
      "text/plain": [
       "        orderdate  Month     storeid   productid           storename  \\\n",
       "0      2018-03-15      3        2556  4304379107           brand box   \n",
       "49     2018-03-21      3  6204819496  4924407052  Best Sneaker Deals   \n",
       "50     2018-03-21      3  6204819496  4924407052  Best Sneaker Deals   \n",
       "51     2018-03-21      3  6204819496  5696453597  Best Sneaker Deals   \n",
       "52     2018-03-21      3  6204819496  7909416502  Best Sneaker Deals   \n",
       "...           ...    ...         ...         ...                 ...   \n",
       "145645 2019-01-22      1  5705944516  6098122048       Yuva Shopping   \n",
       "145844 2019-01-22      1  6576661056  5435553122           Abcustoms   \n",
       "145862 2019-01-22      1  6576661056  5435553122           Abcustoms   \n",
       "147818 2019-01-24      1  5992411172  6355171057              REGIUM   \n",
       "147918 2019-01-24      1  6576661056  5435553122           Abcustoms   \n",
       "\n",
       "             productcategoryname  customer id  suborderamount  \\\n",
       "0                Branded watches   5499103969            1749   \n",
       "49                  Casual Shoes   4515829621            1499   \n",
       "50                  Casual Shoes   6591761496            1499   \n",
       "51                  Sports Shoes   7514461036            1899   \n",
       "52                  Sports Shoes   5579253250            1999   \n",
       "...                          ...          ...             ...   \n",
       "145645  Men's winter collection.   8111183194            1550   \n",
       "145844              MEN'S SHIRTS   5958481152            1247   \n",
       "145862              MEN'S SHIRTS   6465579528            1247   \n",
       "147818  WOMEN'S LATEST TRACKSUIT   6080837799            1348   \n",
       "147918              MEN'S SHIRTS   4659193880            1247   \n",
       "\n",
       "        storesubscriptionid  productvariantid ordercustomer_state  Day  week  \\\n",
       "0                5873495418        8185605295          TAMIL NADU   15    11   \n",
       "49               4876921363        4819823354       UTTAR PRADESH   21    12   \n",
       "50               4876921363        5345815603         UTTARAKHAND   21    12   \n",
       "51               4876921363        7357976432           KARNATAKA   21    12   \n",
       "52               4876921363        8044645272      MADHYA PRADESH   21    12   \n",
       "...                     ...               ...                 ...  ...   ...   \n",
       "145645           7023873821        5329153881         MAHARASHTRA   22     4   \n",
       "145844           6635666215        5048410423         MAHARASHTRA   22     4   \n",
       "145862           6635666215        5048410423               BIHAR   22     4   \n",
       "147818           7488846800        4938414201               ASSAM   24     4   \n",
       "147918           6635666215        6998086462           TELANGANA   24     4   \n",
       "\n",
       "        year  revenue  \n",
       "0       2018    21.86  \n",
       "49      2018    18.74  \n",
       "50      2018    18.74  \n",
       "51      2018    23.74  \n",
       "52      2018    24.99  \n",
       "...      ...      ...  \n",
       "145645  2019    19.38  \n",
       "145844  2019    15.59  \n",
       "145862  2019    15.59  \n",
       "147818  2019    16.85  \n",
       "147918  2019    15.59  \n",
       "\n",
       "[464 rows x 15 columns]"
      ]
     },
     "execution_count": 20,
     "metadata": {},
     "output_type": "execute_result"
    }
   ],
   "source": [
    "## droping rows having suborderamount more than 1000\n",
    "print(data['suborderamount'].value_counts())\n",
    "data[data['suborderamount'] > 1000]"
   ]
  },
  {
   "cell_type": "code",
   "execution_count": 21,
   "metadata": {},
   "outputs": [],
   "source": [
    "#dropping rows having suborder amount more than 1000\n",
    "data.drop(data[data.suborderamount > 1000].index, inplace=True)"
   ]
  },
  {
   "cell_type": "markdown",
   "metadata": {},
   "source": [
    "### <font color=\"blue\">Categorical Variable</font>"
   ]
  },
  {
   "cell_type": "code",
   "execution_count": 22,
   "metadata": {},
   "outputs": [
    {
     "name": "stdout",
     "output_type": "stream",
     "text": [
      "Number of categorical variables:  3\n"
     ]
    }
   ],
   "source": [
    "cat_vars = [var for var in data.columns if data[var].dtypes == 'O']\n",
    "\n",
    "print('Number of categorical variables: ', len(cat_vars))"
   ]
  },
  {
   "cell_type": "code",
   "execution_count": 23,
   "metadata": {},
   "outputs": [
    {
     "data": {
      "text/html": [
       "<div>\n",
       "<style scoped>\n",
       "    .dataframe tbody tr th:only-of-type {\n",
       "        vertical-align: middle;\n",
       "    }\n",
       "\n",
       "    .dataframe tbody tr th {\n",
       "        vertical-align: top;\n",
       "    }\n",
       "\n",
       "    .dataframe thead th {\n",
       "        text-align: right;\n",
       "    }\n",
       "</style>\n",
       "<table border=\"1\" class=\"dataframe\">\n",
       "  <thead>\n",
       "    <tr style=\"text-align: right;\">\n",
       "      <th></th>\n",
       "      <th>storename</th>\n",
       "      <th>productcategoryname</th>\n",
       "      <th>ordercustomer_state</th>\n",
       "    </tr>\n",
       "  </thead>\n",
       "  <tbody>\n",
       "    <tr>\n",
       "      <th>1</th>\n",
       "      <td>brand box</td>\n",
       "      <td>LEATHER BELT</td>\n",
       "      <td>GUJARAT</td>\n",
       "    </tr>\n",
       "    <tr>\n",
       "      <th>2</th>\n",
       "      <td>brand box</td>\n",
       "      <td>Branded watches</td>\n",
       "      <td>UTTARAKHAND</td>\n",
       "    </tr>\n",
       "    <tr>\n",
       "      <th>3</th>\n",
       "      <td>brand box</td>\n",
       "      <td>Branded watches</td>\n",
       "      <td>TELANGANA</td>\n",
       "    </tr>\n",
       "    <tr>\n",
       "      <th>4</th>\n",
       "      <td>L I F E Store</td>\n",
       "      <td>Tempered Glass</td>\n",
       "      <td>TELANGANA</td>\n",
       "    </tr>\n",
       "    <tr>\n",
       "      <th>5</th>\n",
       "      <td>L I F E Store</td>\n",
       "      <td>Tempered Glass</td>\n",
       "      <td>PUNJAB</td>\n",
       "    </tr>\n",
       "  </tbody>\n",
       "</table>\n",
       "</div>"
      ],
      "text/plain": [
       "       storename productcategoryname ordercustomer_state\n",
       "1      brand box       LEATHER BELT              GUJARAT\n",
       "2      brand box     Branded watches         UTTARAKHAND\n",
       "3      brand box     Branded watches           TELANGANA\n",
       "4  L I F E Store      Tempered Glass           TELANGANA\n",
       "5  L I F E Store      Tempered Glass              PUNJAB"
      ]
     },
     "execution_count": 23,
     "metadata": {},
     "output_type": "execute_result"
    }
   ],
   "source": [
    "data[cat_vars].head()"
   ]
  },
  {
   "cell_type": "code",
   "execution_count": 24,
   "metadata": {},
   "outputs": [
    {
     "data": {
      "text/plain": [
       "storename              395\n",
       "productcategoryname    665\n",
       "ordercustomer_state     35\n",
       "dtype: int64"
      ]
     },
     "execution_count": 24,
     "metadata": {},
     "output_type": "execute_result"
    }
   ],
   "source": [
    "#Unique categorical variables in 3 columns.\n",
    "data[cat_vars].nunique()"
   ]
  },
  {
   "cell_type": "markdown",
   "metadata": {},
   "source": [
    "### <font color=\"blue\">Correlation analysis</font>"
   ]
  },
  {
   "cell_type": "code",
   "execution_count": 25,
   "metadata": {},
   "outputs": [],
   "source": [
    "corrmat = data.corr()"
   ]
  },
  {
   "cell_type": "code",
   "execution_count": 26,
   "metadata": {},
   "outputs": [
    {
     "data": {
      "text/html": [
       "<div>\n",
       "<style scoped>\n",
       "    .dataframe tbody tr th:only-of-type {\n",
       "        vertical-align: middle;\n",
       "    }\n",
       "\n",
       "    .dataframe tbody tr th {\n",
       "        vertical-align: top;\n",
       "    }\n",
       "\n",
       "    .dataframe thead th {\n",
       "        text-align: right;\n",
       "    }\n",
       "</style>\n",
       "<table border=\"1\" class=\"dataframe\">\n",
       "  <thead>\n",
       "    <tr style=\"text-align: right;\">\n",
       "      <th></th>\n",
       "      <th>Month</th>\n",
       "      <th>storeid</th>\n",
       "      <th>productid</th>\n",
       "      <th>customer id</th>\n",
       "      <th>suborderamount</th>\n",
       "      <th>storesubscriptionid</th>\n",
       "      <th>productvariantid</th>\n",
       "      <th>Day</th>\n",
       "      <th>week</th>\n",
       "      <th>year</th>\n",
       "      <th>revenue</th>\n",
       "    </tr>\n",
       "  </thead>\n",
       "  <tbody>\n",
       "    <tr>\n",
       "      <th>Month</th>\n",
       "      <td>1.000000</td>\n",
       "      <td>-0.031881</td>\n",
       "      <td>0.049388</td>\n",
       "      <td>0.005734</td>\n",
       "      <td>0.038456</td>\n",
       "      <td>-0.040526</td>\n",
       "      <td>-0.017849</td>\n",
       "      <td>0.032626</td>\n",
       "      <td>0.950678</td>\n",
       "      <td>-0.894782</td>\n",
       "      <td>0.038510</td>\n",
       "    </tr>\n",
       "    <tr>\n",
       "      <th>storeid</th>\n",
       "      <td>-0.031881</td>\n",
       "      <td>1.000000</td>\n",
       "      <td>0.000104</td>\n",
       "      <td>-0.002830</td>\n",
       "      <td>-0.029189</td>\n",
       "      <td>0.041652</td>\n",
       "      <td>-0.038941</td>\n",
       "      <td>0.010052</td>\n",
       "      <td>-0.021364</td>\n",
       "      <td>-0.043535</td>\n",
       "      <td>-0.029397</td>\n",
       "    </tr>\n",
       "    <tr>\n",
       "      <th>productid</th>\n",
       "      <td>0.049388</td>\n",
       "      <td>0.000104</td>\n",
       "      <td>1.000000</td>\n",
       "      <td>0.006181</td>\n",
       "      <td>0.003157</td>\n",
       "      <td>-0.011343</td>\n",
       "      <td>0.005246</td>\n",
       "      <td>-0.007738</td>\n",
       "      <td>0.047076</td>\n",
       "      <td>-0.043078</td>\n",
       "      <td>0.003191</td>\n",
       "    </tr>\n",
       "    <tr>\n",
       "      <th>customer id</th>\n",
       "      <td>0.005734</td>\n",
       "      <td>-0.002830</td>\n",
       "      <td>0.006181</td>\n",
       "      <td>1.000000</td>\n",
       "      <td>0.000131</td>\n",
       "      <td>-0.004188</td>\n",
       "      <td>0.001677</td>\n",
       "      <td>0.001513</td>\n",
       "      <td>0.004707</td>\n",
       "      <td>-0.004824</td>\n",
       "      <td>0.000146</td>\n",
       "    </tr>\n",
       "    <tr>\n",
       "      <th>suborderamount</th>\n",
       "      <td>0.038456</td>\n",
       "      <td>-0.029189</td>\n",
       "      <td>0.003157</td>\n",
       "      <td>0.000131</td>\n",
       "      <td>1.000000</td>\n",
       "      <td>0.034732</td>\n",
       "      <td>-0.025261</td>\n",
       "      <td>-0.001368</td>\n",
       "      <td>0.037123</td>\n",
       "      <td>0.077570</td>\n",
       "      <td>0.999999</td>\n",
       "    </tr>\n",
       "    <tr>\n",
       "      <th>storesubscriptionid</th>\n",
       "      <td>-0.040526</td>\n",
       "      <td>0.041652</td>\n",
       "      <td>-0.011343</td>\n",
       "      <td>-0.004188</td>\n",
       "      <td>0.034732</td>\n",
       "      <td>1.000000</td>\n",
       "      <td>-0.000070</td>\n",
       "      <td>-0.024255</td>\n",
       "      <td>-0.045368</td>\n",
       "      <td>0.029246</td>\n",
       "      <td>0.034759</td>\n",
       "    </tr>\n",
       "    <tr>\n",
       "      <th>productvariantid</th>\n",
       "      <td>-0.017849</td>\n",
       "      <td>-0.038941</td>\n",
       "      <td>0.005246</td>\n",
       "      <td>0.001677</td>\n",
       "      <td>-0.025261</td>\n",
       "      <td>-0.000070</td>\n",
       "      <td>1.000000</td>\n",
       "      <td>-0.006355</td>\n",
       "      <td>-0.015877</td>\n",
       "      <td>0.003230</td>\n",
       "      <td>-0.025276</td>\n",
       "    </tr>\n",
       "    <tr>\n",
       "      <th>Day</th>\n",
       "      <td>0.032626</td>\n",
       "      <td>0.010052</td>\n",
       "      <td>-0.007738</td>\n",
       "      <td>0.001513</td>\n",
       "      <td>-0.001368</td>\n",
       "      <td>-0.024255</td>\n",
       "      <td>-0.006355</td>\n",
       "      <td>1.000000</td>\n",
       "      <td>0.083592</td>\n",
       "      <td>-0.076689</td>\n",
       "      <td>-0.001385</td>\n",
       "    </tr>\n",
       "    <tr>\n",
       "      <th>week</th>\n",
       "      <td>0.950678</td>\n",
       "      <td>-0.021364</td>\n",
       "      <td>0.047076</td>\n",
       "      <td>0.004707</td>\n",
       "      <td>0.037123</td>\n",
       "      <td>-0.045368</td>\n",
       "      <td>-0.015877</td>\n",
       "      <td>0.083592</td>\n",
       "      <td>1.000000</td>\n",
       "      <td>-0.863801</td>\n",
       "      <td>0.037166</td>\n",
       "    </tr>\n",
       "    <tr>\n",
       "      <th>year</th>\n",
       "      <td>-0.894782</td>\n",
       "      <td>-0.043535</td>\n",
       "      <td>-0.043078</td>\n",
       "      <td>-0.004824</td>\n",
       "      <td>0.077570</td>\n",
       "      <td>0.029246</td>\n",
       "      <td>0.003230</td>\n",
       "      <td>-0.076689</td>\n",
       "      <td>-0.863801</td>\n",
       "      <td>1.000000</td>\n",
       "      <td>0.077494</td>\n",
       "    </tr>\n",
       "    <tr>\n",
       "      <th>revenue</th>\n",
       "      <td>0.038510</td>\n",
       "      <td>-0.029397</td>\n",
       "      <td>0.003191</td>\n",
       "      <td>0.000146</td>\n",
       "      <td>0.999999</td>\n",
       "      <td>0.034759</td>\n",
       "      <td>-0.025276</td>\n",
       "      <td>-0.001385</td>\n",
       "      <td>0.037166</td>\n",
       "      <td>0.077494</td>\n",
       "      <td>1.000000</td>\n",
       "    </tr>\n",
       "  </tbody>\n",
       "</table>\n",
       "</div>"
      ],
      "text/plain": [
       "                        Month   storeid  productid  customer id  \\\n",
       "Month                1.000000 -0.031881   0.049388     0.005734   \n",
       "storeid             -0.031881  1.000000   0.000104    -0.002830   \n",
       "productid            0.049388  0.000104   1.000000     0.006181   \n",
       "customer id          0.005734 -0.002830   0.006181     1.000000   \n",
       "suborderamount       0.038456 -0.029189   0.003157     0.000131   \n",
       "storesubscriptionid -0.040526  0.041652  -0.011343    -0.004188   \n",
       "productvariantid    -0.017849 -0.038941   0.005246     0.001677   \n",
       "Day                  0.032626  0.010052  -0.007738     0.001513   \n",
       "week                 0.950678 -0.021364   0.047076     0.004707   \n",
       "year                -0.894782 -0.043535  -0.043078    -0.004824   \n",
       "revenue              0.038510 -0.029397   0.003191     0.000146   \n",
       "\n",
       "                     suborderamount  storesubscriptionid  productvariantid  \\\n",
       "Month                      0.038456            -0.040526         -0.017849   \n",
       "storeid                   -0.029189             0.041652         -0.038941   \n",
       "productid                  0.003157            -0.011343          0.005246   \n",
       "customer id                0.000131            -0.004188          0.001677   \n",
       "suborderamount             1.000000             0.034732         -0.025261   \n",
       "storesubscriptionid        0.034732             1.000000         -0.000070   \n",
       "productvariantid          -0.025261            -0.000070          1.000000   \n",
       "Day                       -0.001368            -0.024255         -0.006355   \n",
       "week                       0.037123            -0.045368         -0.015877   \n",
       "year                       0.077570             0.029246          0.003230   \n",
       "revenue                    0.999999             0.034759         -0.025276   \n",
       "\n",
       "                          Day      week      year   revenue  \n",
       "Month                0.032626  0.950678 -0.894782  0.038510  \n",
       "storeid              0.010052 -0.021364 -0.043535 -0.029397  \n",
       "productid           -0.007738  0.047076 -0.043078  0.003191  \n",
       "customer id          0.001513  0.004707 -0.004824  0.000146  \n",
       "suborderamount      -0.001368  0.037123  0.077570  0.999999  \n",
       "storesubscriptionid -0.024255 -0.045368  0.029246  0.034759  \n",
       "productvariantid    -0.006355 -0.015877  0.003230 -0.025276  \n",
       "Day                  1.000000  0.083592 -0.076689 -0.001385  \n",
       "week                 0.083592  1.000000 -0.863801  0.037166  \n",
       "year                -0.076689 -0.863801  1.000000  0.077494  \n",
       "revenue             -0.001385  0.037166  0.077494  1.000000  "
      ]
     },
     "execution_count": 26,
     "metadata": {},
     "output_type": "execute_result"
    }
   ],
   "source": [
    "corrmat"
   ]
  },
  {
   "cell_type": "code",
   "execution_count": 27,
   "metadata": {},
   "outputs": [
    {
     "data": {
      "text/plain": [
       "<matplotlib.axes._subplots.AxesSubplot at 0x20c64d6c308>"
      ]
     },
     "execution_count": 27,
     "metadata": {},
     "output_type": "execute_result"
    },
    {
     "data": {
      "image/png": "[encoded data removed]",
      "text/plain": [
       "<Figure size 432x288 with 2 Axes>"
      ]
     },
     "metadata": {
      "needs_background": "light"
     },
     "output_type": "display_data"
    }
   ],
   "source": [
    "import seaborn as sns\n",
    "sns.heatmap(corrmat,xticklabels=corrmat.columns,\n",
    "        yticklabels=corrmat.columns)"
   ]
  },
  {
   "cell_type": "code",
   "execution_count": 28,
   "metadata": {},
   "outputs": [],
   "source": [
    "data=data.drop(['year','Day','year'],axis=1)"
   ]
  },
  {
   "cell_type": "markdown",
   "metadata": {},
   "source": [
    "### <font color=\"red\">Majority of variables have positive correlation between 0.0-0.4</font>\n",
    "### <font color=\"red\">Variables are not highly positive corelated with each other.</font>"
   ]
  },
  {
   "cell_type": "code",
   "execution_count": 29,
   "metadata": {},
   "outputs": [],
   "source": [
    "corrmatnew = data.corr()"
   ]
  },
  {
   "cell_type": "code",
   "execution_count": 30,
   "metadata": {},
   "outputs": [
    {
     "data": {
      "text/plain": [
       "<matplotlib.axes._subplots.AxesSubplot at 0x20c6463d148>"
      ]
     },
     "execution_count": 30,
     "metadata": {},
     "output_type": "execute_result"
    },
    {
     "data": {
      "image/png": "[encoded data removed]",
      "text/plain": [
       "<Figure size 432x288 with 2 Axes>"
      ]
     },
     "metadata": {
      "needs_background": "light"
     },
     "output_type": "display_data"
    }
   ],
   "source": [
    "import seaborn as sns\n",
    "sns.heatmap(corrmatnew,xticklabels=corrmat.columns,\n",
    "        yticklabels=corrmat.columns)"
   ]
  },
  {
   "cell_type": "markdown",
   "metadata": {},
   "source": [
    "### <font color=\"blue\">Preprocessing MinMax and cat encoding of variables</font>"
   ]
  },
  {
   "cell_type": "code",
   "execution_count": 31,
   "metadata": {},
   "outputs": [],
   "source": [
    "# MinMax scaler transformation is applied to columns having larger values\n",
    "from sklearn import preprocessing\n",
    "min_max_scaler = preprocessing.MinMaxScaler()\n",
    "data[['customer id','storeid']] = min_max_scaler.fit_transform(data[['customer id','storeid']])\n",
    "data[['storesubscriptionid','productvariantid']] = min_max_scaler.fit_transform(data[['storesubscriptionid','productvariantid']])\n",
    "data['productid'] = min_max_scaler.fit_transform(data[['productid']])"
   ]
  },
  {
   "cell_type": "code",
   "execution_count": 32,
   "metadata": {},
   "outputs": [],
   "source": [
    "data['productcategoryname'] = data['productcategoryname'].astype('category').cat.codes\n",
    "data['ordercustomer_state'] = data['ordercustomer_state'].astype('category').cat.codes\n",
    "data['storename'] = data['storename'].astype('category').cat.codes"
   ]
  },
  {
   "cell_type": "code",
   "execution_count": 33,
   "metadata": {},
   "outputs": [
    {
     "data": {
      "text/html": [
       "<div>\n",
       "<style scoped>\n",
       "    .dataframe tbody tr th:only-of-type {\n",
       "        vertical-align: middle;\n",
       "    }\n",
       "\n",
       "    .dataframe tbody tr th {\n",
       "        vertical-align: top;\n",
       "    }\n",
       "\n",
       "    .dataframe thead th {\n",
       "        text-align: right;\n",
       "    }\n",
       "</style>\n",
       "<table border=\"1\" class=\"dataframe\">\n",
       "  <thead>\n",
       "    <tr style=\"text-align: right;\">\n",
       "      <th></th>\n",
       "      <th>orderdate</th>\n",
       "      <th>Month</th>\n",
       "      <th>storeid</th>\n",
       "      <th>productid</th>\n",
       "      <th>storename</th>\n",
       "      <th>productcategoryname</th>\n",
       "      <th>customer id</th>\n",
       "      <th>suborderamount</th>\n",
       "      <th>storesubscriptionid</th>\n",
       "      <th>productvariantid</th>\n",
       "      <th>ordercustomer_state</th>\n",
       "      <th>week</th>\n",
       "      <th>revenue</th>\n",
       "    </tr>\n",
       "  </thead>\n",
       "  <tbody>\n",
       "    <tr>\n",
       "      <th>1</th>\n",
       "      <td>2018-03-15</td>\n",
       "      <td>3</td>\n",
       "      <td>2.338793e-07</td>\n",
       "      <td>0.418412</td>\n",
       "      <td>316</td>\n",
       "      <td>264</td>\n",
       "      <td>0.745348</td>\n",
       "      <td>499</td>\n",
       "      <td>0.367428</td>\n",
       "      <td>0.585348</td>\n",
       "      <td>11</td>\n",
       "      <td>11</td>\n",
       "      <td>6.24</td>\n",
       "    </tr>\n",
       "    <tr>\n",
       "      <th>2</th>\n",
       "      <td>2018-03-16</td>\n",
       "      <td>3</td>\n",
       "      <td>2.338793e-07</td>\n",
       "      <td>0.288165</td>\n",
       "      <td>316</td>\n",
       "      <td>76</td>\n",
       "      <td>0.970045</td>\n",
       "      <td>739</td>\n",
       "      <td>0.367428</td>\n",
       "      <td>0.077913</td>\n",
       "      <td>33</td>\n",
       "      <td>11</td>\n",
       "      <td>9.24</td>\n",
       "    </tr>\n",
       "    <tr>\n",
       "      <th>3</th>\n",
       "      <td>2018-03-16</td>\n",
       "      <td>3</td>\n",
       "      <td>2.338793e-07</td>\n",
       "      <td>0.837606</td>\n",
       "      <td>316</td>\n",
       "      <td>76</td>\n",
       "      <td>0.895977</td>\n",
       "      <td>449</td>\n",
       "      <td>0.367428</td>\n",
       "      <td>0.440305</td>\n",
       "      <td>30</td>\n",
       "      <td>11</td>\n",
       "      <td>5.61</td>\n",
       "    </tr>\n",
       "    <tr>\n",
       "      <th>4</th>\n",
       "      <td>2018-03-16</td>\n",
       "      <td>3</td>\n",
       "      <td>5.267830e-01</td>\n",
       "      <td>0.043238</td>\n",
       "      <td>123</td>\n",
       "      <td>521</td>\n",
       "      <td>0.472847</td>\n",
       "      <td>138</td>\n",
       "      <td>0.371763</td>\n",
       "      <td>0.750472</td>\n",
       "      <td>30</td>\n",
       "      <td>11</td>\n",
       "      <td>1.73</td>\n",
       "    </tr>\n",
       "    <tr>\n",
       "      <th>5</th>\n",
       "      <td>2018-03-16</td>\n",
       "      <td>3</td>\n",
       "      <td>5.267830e-01</td>\n",
       "      <td>0.169185</td>\n",
       "      <td>123</td>\n",
       "      <td>521</td>\n",
       "      <td>0.890567</td>\n",
       "      <td>89</td>\n",
       "      <td>0.371763</td>\n",
       "      <td>0.529001</td>\n",
       "      <td>26</td>\n",
       "      <td>11</td>\n",
       "      <td>1.11</td>\n",
       "    </tr>\n",
       "  </tbody>\n",
       "</table>\n",
       "</div>"
      ],
      "text/plain": [
       "   orderdate  Month       storeid  productid  storename  productcategoryname  \\\n",
       "1 2018-03-15      3  2.338793e-07   0.418412        316                  264   \n",
       "2 2018-03-16      3  2.338793e-07   0.288165        316                   76   \n",
       "3 2018-03-16      3  2.338793e-07   0.837606        316                   76   \n",
       "4 2018-03-16      3  5.267830e-01   0.043238        123                  521   \n",
       "5 2018-03-16      3  5.267830e-01   0.169185        123                  521   \n",
       "\n",
       "   customer id  suborderamount  storesubscriptionid  productvariantid  \\\n",
       "1     0.745348             499             0.367428          0.585348   \n",
       "2     0.970045             739             0.367428          0.077913   \n",
       "3     0.895977             449             0.367428          0.440305   \n",
       "4     0.472847             138             0.371763          0.750472   \n",
       "5     0.890567              89             0.371763          0.529001   \n",
       "\n",
       "   ordercustomer_state  week  revenue  \n",
       "1                   11    11     6.24  \n",
       "2                   33    11     9.24  \n",
       "3                   30    11     5.61  \n",
       "4                   30    11     1.73  \n",
       "5                   26    11     1.11  "
      ]
     },
     "execution_count": 33,
     "metadata": {},
     "output_type": "execute_result"
    }
   ],
   "source": [
    "data.head()"
   ]
  },
  {
   "cell_type": "markdown",
   "metadata": {},
   "source": [
    "### <font color=\"blue\">Feature Engineering(variable selection)</font>"
   ]
  },
  {
   "cell_type": "code",
   "execution_count": 34,
   "metadata": {},
   "outputs": [],
   "source": [
    "validation=data[data['Month']==1]"
   ]
  },
  {
   "cell_type": "code",
   "execution_count": 35,
   "metadata": {},
   "outputs": [],
   "source": [
    "train_data=data[data['Month'] !=1]"
   ]
  },
  {
   "cell_type": "code",
   "execution_count": 36,
   "metadata": {},
   "outputs": [],
   "source": [
    "#validation.to_csv('finalvalidation.csv')"
   ]
  },
  {
   "cell_type": "code",
   "execution_count": 37,
   "metadata": {},
   "outputs": [],
   "source": [
    "X = train_data.drop(['revenue','orderdate'] ,axis=1)\n",
    "y = train_data['revenue'] "
   ]
  },
  {
   "cell_type": "code",
   "execution_count": 38,
   "metadata": {},
   "outputs": [],
   "source": [
    "#X.to_csv('X_data_final.csv')\n",
    "#y.to_csv('y_data_final.csv')"
   ]
  },
  {
   "cell_type": "code",
   "execution_count": 39,
   "metadata": {},
   "outputs": [
    {
     "data": {
      "text/plain": [
       "((93352, 11), (40008, 11))"
      ]
     },
     "execution_count": 39,
     "metadata": {},
     "output_type": "execute_result"
    }
   ],
   "source": [
    "X_train, X_test, y_train, y_test = train_test_split(X, y, test_size=0.3, random_state=101)\n",
    "X_train.shape,X_test.shape"
   ]
  },
  {
   "cell_type": "code",
   "execution_count": 40,
   "metadata": {},
   "outputs": [],
   "source": [
    "from sklearn.linear_model import Lasso\n",
    "from sklearn.feature_selection import SelectFromModel"
   ]
  },
  {
   "cell_type": "code",
   "execution_count": 41,
   "metadata": {},
   "outputs": [],
   "source": [
    "## Feature selection of most predictive features using lasso regression."
   ]
  },
  {
   "cell_type": "code",
   "execution_count": 42,
   "metadata": {},
   "outputs": [
    {
     "data": {
      "text/plain": [
       "SelectFromModel(estimator=Lasso(alpha=0.005, copy_X=True, fit_intercept=True,\n",
       "                                max_iter=1000, normalize=False, positive=False,\n",
       "                                precompute=False, random_state=0,\n",
       "                                selection='cyclic', tol=0.0001,\n",
       "                                warm_start=False),\n",
       "                max_features=None, norm_order=1, prefit=False, threshold=None)"
      ]
     },
     "execution_count": 42,
     "metadata": {},
     "output_type": "execute_result"
    }
   ],
   "source": [
    "sel_ = SelectFromModel(Lasso(alpha=0.005, random_state=0))\n",
    "sel_.fit(X_train, y_train)"
   ]
  },
  {
   "cell_type": "code",
   "execution_count": 43,
   "metadata": {},
   "outputs": [
    {
     "name": "stdout",
     "output_type": "stream",
     "text": [
      "total features: 11\n",
      "selected features: 1\n",
      "features with coefficients shrank to zero: 9\n"
     ]
    },
    {
     "data": {
      "text/plain": [
       "Index(['suborderamount'], dtype='object')"
      ]
     },
     "execution_count": 43,
     "metadata": {},
     "output_type": "execute_result"
    }
   ],
   "source": [
    "selected_feats = X_train.columns[(sel_.get_support())]\n",
    "\n",
    "# let's print some stats\n",
    "print('total features: {}'.format((X_train.shape[1])))\n",
    "print('selected features: {}'.format(len(selected_feats)))\n",
    "print('features with coefficients shrank to zero: {}'.format(\n",
    "    np.sum(sel_.estimator_.coef_ == 0)))\n",
    "# printing the selected features\n",
    "selected_feats"
   ]
  },
  {
   "cell_type": "code",
   "execution_count": 44,
   "metadata": {},
   "outputs": [
    {
     "data": {
      "text/plain": [
       "Index(['storename', 'suborderamount'], dtype='object')"
      ]
     },
     "execution_count": 44,
     "metadata": {},
     "output_type": "execute_result"
    }
   ],
   "source": [
    "selected_feats = X_train.columns[(sel_.estimator_.coef_ != 0).ravel().tolist()]\n",
    "\n",
    "selected_feats"
   ]
  },
  {
   "cell_type": "markdown",
   "metadata": {},
   "source": [
    "### <font color=\"red\">Feature selection can be done if datasets have large column variables\n",
    "According to dataset, we got 2 columns with best feature respect to revenue column.\n",
    "Only two columns cannot be selected for applying regression models\n",
    "This is just to show which features have importance respective to revenue column.</font>"
   ]
  },
  {
   "cell_type": "markdown",
   "metadata": {},
   "source": [
    "### <font color=\"blue\">Checking if any column is overfitting</font>"
   ]
  },
  {
   "cell_type": "code",
   "execution_count": 45,
   "metadata": {},
   "outputs": [
    {
     "name": "stdout",
     "output_type": "stream",
     "text": [
      "[]\n"
     ]
    }
   ],
   "source": [
    "X = data\n",
    "overfit = []\n",
    "for i in X.columns:\n",
    "    counts = X[i].value_counts()\n",
    "    zeros = counts.iloc[0]\n",
    "    if zeros / len(X) * 100 > 99.95:\n",
    "        overfit.append(i)\n",
    "\n",
    "overfit = list(overfit)\n",
    "print(overfit) "
   ]
  },
  {
   "cell_type": "markdown",
   "metadata": {},
   "source": [
    "### <font color=\"red\">Overfit is empty i.e. no overfitting</font>"
   ]
  },
  {
   "cell_type": "markdown",
   "metadata": {},
   "source": [
    " "
   ]
  },
  {
   "cell_type": "markdown",
   "metadata": {},
   "source": [
    " "
   ]
  },
  {
   "cell_type": "markdown",
   "metadata": {},
   "source": [
    " "
   ]
  },
  {
   "cell_type": "markdown",
   "metadata": {},
   "source": [
    "## <font color=\"orange\">Building regression models</font>"
   ]
  },
  {
   "cell_type": "code",
   "execution_count": 46,
   "metadata": {},
   "outputs": [],
   "source": [
    "X_train = train_data.drop(['revenue','orderdate'] ,axis = 1)\n",
    "Y_train = train_data['revenue']\n",
    "X_test = X_train"
   ]
  },
  {
   "cell_type": "code",
   "execution_count": 47,
   "metadata": {},
   "outputs": [],
   "source": [
    "from datetime import datetime\n",
    "from sklearn.preprocessing import RobustScaler\n",
    "from sklearn.model_selection import KFold, cross_val_score\n",
    "from sklearn.metrics import mean_squared_error, make_scorer, accuracy_score\n",
    "from sklearn.linear_model import ElasticNetCV, LassoCV, RidgeCV\n",
    "from sklearn.pipeline import make_pipeline\n",
    "from sklearn.linear_model import LinearRegression\n",
    "from sklearn.ensemble import GradientBoostingRegressor\n",
    "from mlxtend.regressor import StackingCVRegressor\n",
    "from xgboost import XGBRegressor\n",
    "from lightgbm import LGBMRegressor\n",
    "import math\n",
    "from math import sqrt"
   ]
  },
  {
   "cell_type": "markdown",
   "metadata": {},
   "source": [
    "### <font color='blue'>Cross Validation technique</font>\n",
    "* Cross validation technique is used for assessing the effectiveness of the different models. The aim of cross-validation is to test the ability of the model to predict new data that has not been used to fit it and \n",
    "to flag problems such as overfitting or bias selection and to provide an insight into how the model can generalize to an unknown dataset.\n",
    "* In K-fold cross valdiation technique, data is divided into k subsets and one subset is taking from the bunch and treated as the validation set for model and rest k-1 subset is used for training the model."
   ]
  },
  {
   "cell_type": "code",
   "execution_count": 48,
   "metadata": {},
   "outputs": [],
   "source": [
    "#Defining folds and score functions\n",
    "\n",
    "kfolds = KFold(n_splits=5, shuffle=True, random_state=42)\n",
    "\n",
    "# model scoring and validation function\n",
    "def cv_rmse(model, X_train=X_train):\n",
    "    rmse = np.sqrt(-cross_val_score(model, X_train, Y_train,scoring=\"neg_mean_squared_error\",cv=kfolds))\n",
    "    return (rmse)\n",
    "\n",
    "# rmsle scoring function\n",
    "def rmsle(y, y_pred):\n",
    "    return np.sqrt(mean_squared_error(y, y_pred))"
   ]
  },
  {
   "cell_type": "markdown",
   "metadata": {},
   "source": [
    "### <font color=\"blue\">Regression models used are:</font>\n",
    "### (Ensemble model is used as it enhances the performance and accuracy of the model)\n",
    "* Lasso(Least Absolute Shrinkage and Selection Operator) - Lasso regression is a type of linear regression where shrinkage is used.Shrinking is where data values are reduced to a central point, similar to the mean.\n",
    "\n",
    "* Ridge - Ridge Regression is a method for evaluating multiple data suffering from multicollinearity regression i.e the estimates of the least squares are unbiased and variances are high. The ridge regression eliminates standard errors by applying a degree of bias to the regression estimates.\n",
    "\n",
    "* xgboost(Extreme Gradient Boosting) - XGBoost is a decision-tree-based ensemble Machine Learning algorithm that uses a gradient boosting framework and focuses on computational speed and model efficiency.\n",
    "* lightgbm - LightGBM is a gradient boosting framework that uses tree based learning algorithms. It is designed to provide faster training speed, higher efficiency, low memory usage and better accuracy\n",
    "\n",
    "* elasticnet- ElasticNet is a hybrid of Lasso and Ridge, where both the absolute value penalization and squared penalization are included\n",
    "\n",
    "* stackgen- Stacking is an integrated learning technique that combines multiple regression models with a meta-regressor."
   ]
  },
  {
   "cell_type": "code",
   "execution_count": 49,
   "metadata": {},
   "outputs": [],
   "source": [
    "#Defining models\n",
    "lightgbm = LGBMRegressor(objective='regression', \n",
    "                                       num_leaves=4,\n",
    "                                       learning_rate=0.01, \n",
    "                                       n_estimators=10000,\n",
    "                                       max_bin=200, \n",
    "                                       bagging_fraction=0.75,\n",
    "                                       bagging_freq=5, \n",
    "                                       bagging_seed=7,\n",
    "                                       feature_fraction=0.2, # 'was 0.2'\n",
    "                                       feature_fraction_seed=7,\n",
    "                                       verbose=-1,\n",
    "                                       )\n",
    "\n",
    "xgboost = XGBRegressor(learning_rate=0.01,n_estimators=3460,\n",
    "                                      max_depth=3, min_child_weight=0,\n",
    "                                      gamma=0, subsample=0.7,\n",
    "                                      colsample_bytree=0.7,\n",
    "                                      objective='reg:linear', nthread=-1,\n",
    "                                      scale_pos_weight=1, seed=27,\n",
    "                                      reg_alpha=0.00006)\n",
    "\n",
    "\n",
    "\n",
    "# seting up models hyperparameters using a pipline\n",
    "# The purpose of the pipeline is to assemble several steps that can be cross-validated together, \n",
    "# while setting different parameters.\n",
    "# This is a range of values that the model considers each time in runs a CV\n",
    "e_alphas = [0.0001, 0.0002, 0.0003, 0.0004, 0.0005, 0.0006, 0.0007]\n",
    "e_l1ratio = [0.8, 0.85, 0.9, 0.95, 0.99, 1]\n",
    "alphas_alt = [14.5, 14.6, 14.7, 14.8, 14.9, 15, 15.1, 15.2, 15.3, 15.4, 15.5]\n",
    "alphas2 = [5e-05, 0.0001, 0.0002, 0.0003, 0.0004, 0.0005, 0.0006, 0.0007, 0.0008]\n",
    "\n",
    "\n",
    "\n",
    "\n",
    "# Kernel Ridge Regression : made robust to outliers\n",
    "ridge = make_pipeline(RobustScaler(), RidgeCV(alphas=alphas_alt, cv=kfolds))\n",
    "\n",
    "# LASSO Regression : made robust to outliers\n",
    "lasso = make_pipeline(RobustScaler(), LassoCV(max_iter=1e7, \n",
    "                    alphas=alphas2,random_state=42, cv=kfolds))\n",
    "\n",
    "# Elastic Net Regression : made robust to outliers\n",
    "elasticnet = make_pipeline(RobustScaler(), ElasticNetCV(max_iter=1e7, \n",
    "                         alphas=e_alphas, cv=kfolds, l1_ratio=e_l1ratio))\n",
    "\n",
    "\n",
    "stack_gen = StackingCVRegressor(regressors=(ridge, elasticnet, lightgbm),\n",
    "                                meta_regressor=elasticnet,\n",
    "                                use_features_in_secondary=True)"
   ]
  },
  {
   "cell_type": "code",
   "execution_count": 50,
   "metadata": {},
   "outputs": [
    {
     "name": "stdout",
     "output_type": "stream",
     "text": [
      "[10:50:29] WARNING: C:/Users/Administrator/workspace/xgboost-win64_release_1.0.0/src/objective/regression_obj.cu:167: reg:linear is now deprecated in favor of reg:squarederror.\n",
      "[10:52:49] WARNING: C:/Users/Administrator/workspace/xgboost-win64_release_1.0.0/src/objective/regression_obj.cu:167: reg:linear is now deprecated in favor of reg:squarederror.\n",
      "[10:54:40] WARNING: C:/Users/Administrator/workspace/xgboost-win64_release_1.0.0/src/objective/regression_obj.cu:167: reg:linear is now deprecated in favor of reg:squarederror.\n",
      "[10:56:38] WARNING: C:/Users/Administrator/workspace/xgboost-win64_release_1.0.0/src/objective/regression_obj.cu:167: reg:linear is now deprecated in favor of reg:squarederror.\n",
      "[10:58:28] WARNING: C:/Users/Administrator/workspace/xgboost-win64_release_1.0.0/src/objective/regression_obj.cu:167: reg:linear is now deprecated in favor of reg:squarederror.\n",
      "[11:00:18] WARNING: C:/Users/Administrator/workspace/xgboost-win64_release_1.0.0/src/objective/regression_obj.cu:167: reg:linear is now deprecated in favor of reg:squarederror.\n",
      "---- Score with CV_RMSLE-----\n",
      "Ridge score: 0.0024 (0.0000)\n",
      "\n",
      "Lasso score: 0.0024 (0.0000)\n",
      "\n",
      "ElasticNet score: 0.0024 (0.0000)\n",
      "\n",
      "lightgbm score: 0.0660 (0.0009)\n",
      "\n",
      "[11:03:45] WARNING: C:/Users/Administrator/workspace/xgboost-win64_release_1.0.0/src/objective/regression_obj.cu:167: reg:linear is now deprecated in favor of reg:squarederror.\n",
      "[11:05:44] WARNING: C:/Users/Administrator/workspace/xgboost-win64_release_1.0.0/src/objective/regression_obj.cu:167: reg:linear is now deprecated in favor of reg:squarederror.\n",
      "[11:07:35] WARNING: C:/Users/Administrator/workspace/xgboost-win64_release_1.0.0/src/objective/regression_obj.cu:167: reg:linear is now deprecated in favor of reg:squarederror.\n",
      "[11:09:30] WARNING: C:/Users/Administrator/workspace/xgboost-win64_release_1.0.0/src/objective/regression_obj.cu:167: reg:linear is now deprecated in favor of reg:squarederror.\n",
      "[11:11:21] WARNING: C:/Users/Administrator/workspace/xgboost-win64_release_1.0.0/src/objective/regression_obj.cu:167: reg:linear is now deprecated in favor of reg:squarederror.\n",
      "xgboost score: 0.0278 (0.0004)\n",
      "\n"
     ]
    }
   ],
   "source": [
    "# store models, scores and prediction values \n",
    "models = {'Ridge': ridge,\n",
    "          'Lasso': lasso, \n",
    "          'ElasticNet': elasticnet,\n",
    "          'lightgbm': lightgbm,\n",
    "          'xgboost': xgboost}\n",
    "predictions = {}\n",
    "scores = {}\n",
    "\n",
    "#Training the models\n",
    "for name, model in models.items():\n",
    "    \n",
    "    model.fit(X_train, Y_train)\n",
    "    predictions[name] = np.expm1(model.predict(X_test))   #This mathematical function helps user to calculate exponential of all the elements subtracting 1 from all the input array elements.\n",
    "    score = cv_rmse(model, X_train=X_train)\n",
    "    scores[name] = (score.mean(), score.std())\n",
    "    \n",
    "#Validating and training each model\n",
    "# get the performance of each model on training data(validation set)\n",
    "print('---- Score with CV_RMSLE-----')\n",
    "score = cv_rmse(ridge)\n",
    "print(\"Ridge score: {:.4f} ({:.4f})\\n\".format(score.mean(), score.std()))\n",
    "\n",
    "score = cv_rmse(lasso)\n",
    "print(\"Lasso score: {:.4f} ({:.4f})\\n\".format(score.mean(), score.std()))\n",
    "\n",
    "score = cv_rmse(elasticnet)\n",
    "print(\"ElasticNet score: {:.4f} ({:.4f})\\n\".format(score.mean(), score.std()))\n",
    "\n",
    "score = cv_rmse(lightgbm)\n",
    "print(\"lightgbm score: {:.4f} ({:.4f})\\n\".format(score.mean(), score.std()))\n",
    "\n",
    "score = cv_rmse(xgboost)\n",
    "print(\"xgboost score: {:.4f} ({:.4f})\\n\".format(score.mean(), score.std()))"
   ]
  },
  {
   "cell_type": "code",
   "execution_count": 51,
   "metadata": {},
   "outputs": [
    {
     "name": "stdout",
     "output_type": "stream",
     "text": [
      "----START Fit---- 2020-04-20 11:13:12.456665\n",
      "Elasticnet\n",
      "Lasso\n",
      "Ridge\n",
      "lightgbm\n",
      "xgboost\n",
      "[11:13:32] WARNING: C:/Users/Administrator/workspace/xgboost-win64_release_1.0.0/src/objective/regression_obj.cu:167: reg:linear is now deprecated in favor of reg:squarederror.\n",
      "stack_gen\n"
     ]
    }
   ],
   "source": [
    "#Fit the training data X, y\n",
    "print('----START Fit----',datetime.now())\n",
    "print('Elasticnet')\n",
    "elastic_model = elasticnet.fit(X_train, Y_train)\n",
    "print('Lasso')\n",
    "lasso_model = lasso.fit(X_train, Y_train)\n",
    "print('Ridge')\n",
    "ridge_model = ridge.fit(X_train, Y_train)\n",
    "print('lightgbm')\n",
    "lgb_model_full_data = lightgbm.fit(X_train, Y_train)\n",
    "\n",
    "print('xgboost')\n",
    "xgb_model_full_data = xgboost.fit(X_train, Y_train)\n",
    "\n",
    "\n",
    "print('stack_gen')\n",
    "stack_gen_model = stack_gen.fit(np.array(X_train), np.array(Y_train))\n",
    "\n",
    "#Blend model prediction\n",
    "def blend_models_predict(X_test):\n",
    "    return ((0.2  * elastic_model.predict(X_test)) + \\\n",
    "            (0.25 * lasso_model.predict(X_test)) + \\\n",
    "            (0.2 * ridge_model.predict(X_test)) + \\\n",
    "            (0.15 * lgb_model_full_data.predict(X_test)) + \\\n",
    "             (0.1 * xgb_model_full_data.predict(X_test)) + \\\n",
    "            (0.2 * stack_gen_model.predict(np.array(X_test))))\n",
    "pred =  blend_models_predict(X_test)"
   ]
  },
  {
   "cell_type": "markdown",
   "metadata": {},
   "source": [
    "## <font color=\"orange\">Evaluation of the regression models of smaller dataset</font>"
   ]
  },
  {
   "cell_type": "code",
   "execution_count": 52,
   "metadata": {},
   "outputs": [
    {
     "name": "stdout",
     "output_type": "stream",
     "text": [
      "RMSLE score on train data:\n",
      "0.5641119960683337\n",
      "Test MSE: 0.318\n",
      "Test rmse: 0.564\n",
      "R Squared value: 0.849\n",
      "MAPE: 10.000038\n"
     ]
    }
   ],
   "source": [
    "print('RMSLE score on train data:')\n",
    "print(rmsle(Y_train,pred))\n",
    "\n",
    "\n",
    "error = mean_squared_error(Y_train, pred)\n",
    "print('Test MSE: %.3f' % error)\n",
    "rmse = sqrt(error)\n",
    "print('Test rmse: %.3f' % rmse)\n",
    "\n",
    "from sklearn.metrics import r2_score\n",
    "r2score = r2_score(Y_train, pred,sample_weight=None, multioutput='uniform_average')\n",
    "print('R Squared value: %.3f' % r2score)\n",
    "\n",
    "#Mean absolute percantage error\n",
    "num = abs(pred-Y_train).sum()\n",
    "den = abs(Y_train).sum()\n",
    "\n",
    "mape = (num/den)*100\n",
    "print('MAPE: %3f' %mape)\n"
   ]
  },
  {
   "cell_type": "markdown",
   "metadata": {},
   "source": [
    "<ul style=\"list-style-type:disc;\" size=5>\n",
    "  <li>After applying five best regression algorithms on revenue column.</li>\n",
    "\n",
    "  <li>Accuracy of the model is 100-MAPE =100-10.00 =90% </li>\n",
    "\n",
    "</ul>"
   ]
  },
  {
   "cell_type": "code",
   "execution_count": 53,
   "metadata": {},
   "outputs": [
    {
     "data": {
      "image/png": "[encoded data removed]",
      "text/plain": [
       "<Figure size 432x288 with 1 Axes>"
      ]
     },
     "metadata": {
      "needs_background": "light"
     },
     "output_type": "display_data"
    }
   ],
   "source": [
    "fig,ax = plt.subplots()\n",
    "ax.scatter(Y_train,pred)\n",
    "ax.plot([Y_train.min(),Y_train.max()],[Y_train.min(),Y_train.max()],'k--',lw=4)\n",
    "ax.set_xlabel('Revenue')\n",
    "ax.set_ylabel('Predicted revenue')\n",
    "plt.show()"
   ]
  },
  {
   "cell_type": "markdown",
   "metadata": {},
   "source": [
    "                                                                                                               Notebook3"
   ]
  },
  {
   "cell_type": "code",
   "execution_count": null,
   "metadata": {},
   "outputs": [],
   "source": []
  }
 ],
 "metadata": {
  "kernelspec": {
   "display_name": "Python 3",
   "language": "python",
   "name": "python3"
  },
  "language_info": {
   "codemirror_mode": {
    "name": "ipython",
    "version": 3
   },
   "file_extension": ".py",
   "mimetype": "text/x-python",
   "name": "python",
   "nbconvert_exporter": "python",
   "pygments_lexer": "ipython3",
   "version": "3.7.4"
  }
 },
 "nbformat": 4,
 "nbformat_minor": 2
}
