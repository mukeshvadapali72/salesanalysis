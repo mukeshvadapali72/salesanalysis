{
 "cells": [
  {
   "cell_type": "markdown",
   "metadata": {},
   "source": [
    "# <font color=\"orange\">Part 2B- Regression Algorithms</font>"
   ]
  },
  {
   "cell_type": "markdown",
   "metadata": {},
   "source": [
    "## <font color=\"Orange\">Predicting revenue using regression models on bigger dataset</font>"
   ]
  },
  {
   "cell_type": "markdown",
   "metadata": {},
   "source": [
    "### <font color=\"blue\">Data for this assignment is the ecommerece sales data of brazilian company collected from github datasets. Data includes the sales from october 2016 to august 2018(21 months).</font>\n",
    "* Size of the dataset is: (190634, 11)\n",
    "* 190634 rows and 11 columns"
   ]
  },
  {
   "cell_type": "markdown",
   "metadata": {},
   "source": [
    "## <p style=\"color:blue;\">Importing packages</p>"
   ]
  },
  {
   "cell_type": "code",
   "execution_count": 124,
   "metadata": {},
   "outputs": [],
   "source": [
    "# to handle datasets\n",
    "import pandas as pd\n",
    "import numpy as np\n",
    "\n",
    "# for plotting\n",
    "import altair as alt\n",
    "import seaborn as sns\n",
    "import matplotlib.pyplot as plt\n",
    "from sklearn.model_selection import train_test_split\n",
    "# to display all the columns of the dataframe in the notebook\n",
    "pd.pandas.set_option('display.max_columns', None)"
   ]
  },
  {
   "cell_type": "markdown",
   "metadata": {},
   "source": [
    "## <p style=\"color:blue;\">Loading/reading dataset</p>"
   ]
  },
  {
   "cell_type": "code",
   "execution_count": 125,
   "metadata": {},
   "outputs": [
    {
     "name": "stdout",
     "output_type": "stream",
     "text": [
      "(957762, 11)\n"
     ]
    },
    {
     "data": {
      "text/html": [
       "<div>\n",
       "<style scoped>\n",
       "    .dataframe tbody tr th:only-of-type {\n",
       "        vertical-align: middle;\n",
       "    }\n",
       "\n",
       "    .dataframe tbody tr th {\n",
       "        vertical-align: top;\n",
       "    }\n",
       "\n",
       "    .dataframe thead th {\n",
       "        text-align: right;\n",
       "    }\n",
       "</style>\n",
       "<table border=\"1\" class=\"dataframe\">\n",
       "  <thead>\n",
       "    <tr style=\"text-align: right;\">\n",
       "      <th></th>\n",
       "      <th>order_id</th>\n",
       "      <th>order_item_id</th>\n",
       "      <th>product_id</th>\n",
       "      <th>product_category_name</th>\n",
       "      <th>customer_id</th>\n",
       "      <th>payment_type</th>\n",
       "      <th>price</th>\n",
       "      <th>Final_price</th>\n",
       "      <th>order_date</th>\n",
       "      <th>day</th>\n",
       "      <th>Monthno</th>\n",
       "    </tr>\n",
       "  </thead>\n",
       "  <tbody>\n",
       "    <tr>\n",
       "      <th>0</th>\n",
       "      <td>a041155864e5141116458291313b35c2</td>\n",
       "      <td>1</td>\n",
       "      <td>29bedbfbe73ea473396306b4f0c010ec</td>\n",
       "      <td>utilidades_domesticas</td>\n",
       "      <td>8fbab2ff4df1a7cc9531b14a686bb3ce</td>\n",
       "      <td>credit_card</td>\n",
       "      <td>89.9</td>\n",
       "      <td>117.86</td>\n",
       "      <td>2016-10-06 15:56:27</td>\n",
       "      <td>06/10/2016</td>\n",
       "      <td>1.0</td>\n",
       "    </tr>\n",
       "    <tr>\n",
       "      <th>1</th>\n",
       "      <td>35b8e54d765e6b217e2dc5ab34f6b323</td>\n",
       "      <td>2</td>\n",
       "      <td>2c41d13dc2cf0e9c2e8db8952f0f3ff3</td>\n",
       "      <td>informatica_acessorios</td>\n",
       "      <td>1aaa5eaa9dd9bafb385aadc1930ef8e4</td>\n",
       "      <td>boleto</td>\n",
       "      <td>38.0</td>\n",
       "      <td>218.87</td>\n",
       "      <td>2016-10-07 03:10:10</td>\n",
       "      <td>07/10/2016</td>\n",
       "      <td>1.0</td>\n",
       "    </tr>\n",
       "    <tr>\n",
       "      <th>2</th>\n",
       "      <td>35b8e54d765e6b217e2dc5ab34f6b323</td>\n",
       "      <td>2</td>\n",
       "      <td>2c41d13dc2cf0e9c2e8db8952f0f3ff3</td>\n",
       "      <td>informatica_acessorios</td>\n",
       "      <td>1aaa5eaa9dd9bafb385aadc1930ef8e4</td>\n",
       "      <td>boleto</td>\n",
       "      <td>38.0</td>\n",
       "      <td>218.87</td>\n",
       "      <td>2016-10-07 03:10:10</td>\n",
       "      <td>07/10/2016</td>\n",
       "      <td>1.0</td>\n",
       "    </tr>\n",
       "    <tr>\n",
       "      <th>3</th>\n",
       "      <td>35b8e54d765e6b217e2dc5ab34f6b323</td>\n",
       "      <td>2</td>\n",
       "      <td>2c41d13dc2cf0e9c2e8db8952f0f3ff3</td>\n",
       "      <td>informatica_acessorios</td>\n",
       "      <td>1aaa5eaa9dd9bafb385aadc1930ef8e4</td>\n",
       "      <td>boleto</td>\n",
       "      <td>38.0</td>\n",
       "      <td>218.87</td>\n",
       "      <td>2016-10-07 03:10:10</td>\n",
       "      <td>07/10/2016</td>\n",
       "      <td>1.0</td>\n",
       "    </tr>\n",
       "    <tr>\n",
       "      <th>4</th>\n",
       "      <td>35b8e54d765e6b217e2dc5ab34f6b323</td>\n",
       "      <td>2</td>\n",
       "      <td>2c41d13dc2cf0e9c2e8db8952f0f3ff3</td>\n",
       "      <td>informatica_acessorios</td>\n",
       "      <td>1aaa5eaa9dd9bafb385aadc1930ef8e4</td>\n",
       "      <td>boleto</td>\n",
       "      <td>38.0</td>\n",
       "      <td>218.87</td>\n",
       "      <td>2016-10-07 03:10:10</td>\n",
       "      <td>07/10/2016</td>\n",
       "      <td>1.0</td>\n",
       "    </tr>\n",
       "  </tbody>\n",
       "</table>\n",
       "</div>"
      ],
      "text/plain": [
       "                           order_id  order_item_id  \\\n",
       "0  a041155864e5141116458291313b35c2              1   \n",
       "1  35b8e54d765e6b217e2dc5ab34f6b323              2   \n",
       "2  35b8e54d765e6b217e2dc5ab34f6b323              2   \n",
       "3  35b8e54d765e6b217e2dc5ab34f6b323              2   \n",
       "4  35b8e54d765e6b217e2dc5ab34f6b323              2   \n",
       "\n",
       "                         product_id   product_category_name  \\\n",
       "0  29bedbfbe73ea473396306b4f0c010ec   utilidades_domesticas   \n",
       "1  2c41d13dc2cf0e9c2e8db8952f0f3ff3  informatica_acessorios   \n",
       "2  2c41d13dc2cf0e9c2e8db8952f0f3ff3  informatica_acessorios   \n",
       "3  2c41d13dc2cf0e9c2e8db8952f0f3ff3  informatica_acessorios   \n",
       "4  2c41d13dc2cf0e9c2e8db8952f0f3ff3  informatica_acessorios   \n",
       "\n",
       "                        customer_id payment_type  price  Final_price  \\\n",
       "0  8fbab2ff4df1a7cc9531b14a686bb3ce  credit_card   89.9       117.86   \n",
       "1  1aaa5eaa9dd9bafb385aadc1930ef8e4       boleto   38.0       218.87   \n",
       "2  1aaa5eaa9dd9bafb385aadc1930ef8e4       boleto   38.0       218.87   \n",
       "3  1aaa5eaa9dd9bafb385aadc1930ef8e4       boleto   38.0       218.87   \n",
       "4  1aaa5eaa9dd9bafb385aadc1930ef8e4       boleto   38.0       218.87   \n",
       "\n",
       "            order_date         day  Monthno  \n",
       "0  2016-10-06 15:56:27  06/10/2016      1.0  \n",
       "1  2016-10-07 03:10:10  07/10/2016      1.0  \n",
       "2  2016-10-07 03:10:10  07/10/2016      1.0  \n",
       "3  2016-10-07 03:10:10  07/10/2016      1.0  \n",
       "4  2016-10-07 03:10:10  07/10/2016      1.0  "
      ]
     },
     "execution_count": 125,
     "metadata": {},
     "output_type": "execute_result"
    }
   ],
   "source": [
    "df = pd.read_csv('finalecommdata.csv')\n",
    "# rows and columns of the data\n",
    "print(df.shape)\n",
    "\n",
    "# visualise the dataset\n",
    "df.head()"
   ]
  },
  {
   "cell_type": "code",
   "execution_count": 126,
   "metadata": {},
   "outputs": [],
   "source": [
    "df.rename(columns={'Final_price':'revenue'}, inplace=True)\n"
   ]
  },
  {
   "cell_type": "code",
   "execution_count": 127,
   "metadata": {},
   "outputs": [],
   "source": [
    "## Order date column to date time format - days/month/year\n",
    "df.order_date=pd.to_datetime(df['order_date'], format='%Y/%m/%d')"
   ]
  },
  {
   "cell_type": "code",
   "execution_count": 128,
   "metadata": {},
   "outputs": [],
   "source": [
    "df['Day'] = df['order_date'].dt.day\n",
    "df['Month'] = df['order_date'].dt.month\n",
    "df['week'] =df['order_date'].dt.week\n",
    "df['year'] =df['order_date'].dt.year"
   ]
  },
  {
   "cell_type": "code",
   "execution_count": 129,
   "metadata": {},
   "outputs": [
    {
     "data": {
      "text/html": [
       "<div>\n",
       "<style scoped>\n",
       "    .dataframe tbody tr th:only-of-type {\n",
       "        vertical-align: middle;\n",
       "    }\n",
       "\n",
       "    .dataframe tbody tr th {\n",
       "        vertical-align: top;\n",
       "    }\n",
       "\n",
       "    .dataframe thead th {\n",
       "        text-align: right;\n",
       "    }\n",
       "</style>\n",
       "<table border=\"1\" class=\"dataframe\">\n",
       "  <thead>\n",
       "    <tr style=\"text-align: right;\">\n",
       "      <th></th>\n",
       "      <th>order_item_id</th>\n",
       "      <th>price</th>\n",
       "      <th>revenue</th>\n",
       "      <th>Monthno</th>\n",
       "      <th>Day</th>\n",
       "      <th>Month</th>\n",
       "      <th>week</th>\n",
       "      <th>year</th>\n",
       "    </tr>\n",
       "  </thead>\n",
       "  <tbody>\n",
       "    <tr>\n",
       "      <th>count</th>\n",
       "      <td>957762.000000</td>\n",
       "      <td>957762.000000</td>\n",
       "      <td>957762.000000</td>\n",
       "      <td>957762.000000</td>\n",
       "      <td>957762.000000</td>\n",
       "      <td>957762.000000</td>\n",
       "      <td>957762.000000</td>\n",
       "      <td>957762.000000</td>\n",
       "    </tr>\n",
       "    <tr>\n",
       "      <th>mean</th>\n",
       "      <td>2.239381</td>\n",
       "      <td>92.209220</td>\n",
       "      <td>197.518992</td>\n",
       "      <td>11.501434</td>\n",
       "      <td>14.256232</td>\n",
       "      <td>6.594617</td>\n",
       "      <td>26.661118</td>\n",
       "      <td>2017.325258</td>\n",
       "    </tr>\n",
       "    <tr>\n",
       "      <th>std</th>\n",
       "      <td>2.330910</td>\n",
       "      <td>134.625585</td>\n",
       "      <td>529.854675</td>\n",
       "      <td>4.627331</td>\n",
       "      <td>8.181713</td>\n",
       "      <td>2.827354</td>\n",
       "      <td>12.181450</td>\n",
       "      <td>0.472422</td>\n",
       "    </tr>\n",
       "    <tr>\n",
       "      <th>min</th>\n",
       "      <td>1.000000</td>\n",
       "      <td>0.850000</td>\n",
       "      <td>0.000000</td>\n",
       "      <td>1.000000</td>\n",
       "      <td>1.000000</td>\n",
       "      <td>1.000000</td>\n",
       "      <td>1.000000</td>\n",
       "      <td>2016.000000</td>\n",
       "    </tr>\n",
       "    <tr>\n",
       "      <th>25%</th>\n",
       "      <td>1.000000</td>\n",
       "      <td>19.900000</td>\n",
       "      <td>6.000000</td>\n",
       "      <td>9.000000</td>\n",
       "      <td>8.000000</td>\n",
       "      <td>4.000000</td>\n",
       "      <td>17.000000</td>\n",
       "      <td>2017.000000</td>\n",
       "    </tr>\n",
       "    <tr>\n",
       "      <th>50%</th>\n",
       "      <td>2.000000</td>\n",
       "      <td>59.900000</td>\n",
       "      <td>21.690000</td>\n",
       "      <td>10.000000</td>\n",
       "      <td>11.000000</td>\n",
       "      <td>8.000000</td>\n",
       "      <td>31.000000</td>\n",
       "      <td>2017.000000</td>\n",
       "    </tr>\n",
       "    <tr>\n",
       "      <th>75%</th>\n",
       "      <td>3.000000</td>\n",
       "      <td>95.000000</td>\n",
       "      <td>172.460000</td>\n",
       "      <td>15.000000</td>\n",
       "      <td>22.000000</td>\n",
       "      <td>8.000000</td>\n",
       "      <td>32.000000</td>\n",
       "      <td>2018.000000</td>\n",
       "    </tr>\n",
       "    <tr>\n",
       "      <th>max</th>\n",
       "      <td>21.000000</td>\n",
       "      <td>6735.000000</td>\n",
       "      <td>13664.080000</td>\n",
       "      <td>21.000000</td>\n",
       "      <td>31.000000</td>\n",
       "      <td>12.000000</td>\n",
       "      <td>52.000000</td>\n",
       "      <td>2018.000000</td>\n",
       "    </tr>\n",
       "  </tbody>\n",
       "</table>\n",
       "</div>"
      ],
      "text/plain": [
       "       order_item_id          price        revenue        Monthno  \\\n",
       "count  957762.000000  957762.000000  957762.000000  957762.000000   \n",
       "mean        2.239381      92.209220     197.518992      11.501434   \n",
       "std         2.330910     134.625585     529.854675       4.627331   \n",
       "min         1.000000       0.850000       0.000000       1.000000   \n",
       "25%         1.000000      19.900000       6.000000       9.000000   \n",
       "50%         2.000000      59.900000      21.690000      10.000000   \n",
       "75%         3.000000      95.000000     172.460000      15.000000   \n",
       "max        21.000000    6735.000000   13664.080000      21.000000   \n",
       "\n",
       "                 Day          Month           week           year  \n",
       "count  957762.000000  957762.000000  957762.000000  957762.000000  \n",
       "mean       14.256232       6.594617      26.661118    2017.325258  \n",
       "std         8.181713       2.827354      12.181450       0.472422  \n",
       "min         1.000000       1.000000       1.000000    2016.000000  \n",
       "25%         8.000000       4.000000      17.000000    2017.000000  \n",
       "50%        11.000000       8.000000      31.000000    2017.000000  \n",
       "75%        22.000000       8.000000      32.000000    2018.000000  \n",
       "max        31.000000      12.000000      52.000000    2018.000000  "
      ]
     },
     "execution_count": 129,
     "metadata": {},
     "output_type": "execute_result"
    }
   ],
   "source": [
    "df.describe()"
   ]
  },
  {
   "cell_type": "markdown",
   "metadata": {},
   "source": [
    "## <p style=\"color:blue;\">Basic EDA (Exploratory Data Analysis)</p>"
   ]
  },
  {
   "cell_type": "markdown",
   "metadata": {},
   "source": [
    "### Top 15 most selling products"
   ]
  },
  {
   "cell_type": "code",
   "execution_count": 130,
   "metadata": {},
   "outputs": [
    {
     "data": {
      "image/png": "[encoded data removed]",
      "text/plain": [
       "<Figure size 1296x432 with 1 Axes>"
      ]
     },
     "metadata": {
      "needs_background": "light"
     },
     "output_type": "display_data"
    }
   ],
   "source": [
    "item_counts = df['product_category_name'].value_counts().sort_values(ascending=False).iloc[0:15]\n",
    "plt.figure(figsize=(18,6))\n",
    "sns.barplot(item_counts.index, item_counts.values, palette=sns.cubehelix_palette(15))\n",
    "plt.ylabel(\"Counts\")\n",
    "plt.title(\"Which items were bought more often?\");\n",
    "plt.xticks(rotation=90);"
   ]
  },
  {
   "cell_type": "markdown",
   "metadata": {},
   "source": [
    "### Payment types"
   ]
  },
  {
   "cell_type": "code",
   "execution_count": 131,
   "metadata": {},
   "outputs": [
    {
     "data": {
      "image/png": "[encoded data removed]",
      "text/plain": [
       "<Figure size 1080x432 with 1 Axes>"
      ]
     },
     "metadata": {
      "needs_background": "light"
     },
     "output_type": "display_data"
    }
   ],
   "source": [
    "payments=df['payment_type'].value_counts().sort_values(ascending=False).iloc[0:15]\n",
    "plt.figure(figsize=(15,6))\n",
    "sns.barplot(payments.index, payments.values, palette=sns.cubehelix_palette(15))\n",
    "plt.ylabel(\"Counts\")\n",
    "plt.title(\"Payments methods\");\n",
    "plt.xticks(rotation=90);"
   ]
  },
  {
   "cell_type": "markdown",
   "metadata": {},
   "source": [
    "## <font color=\"blue\">Analysing the dataset further to identify:</font>\n",
    "\n",
    "* Missing values\n",
    "* Numerical variables\n",
    "* Outliers\n",
    "* Categorical variables\n",
    "* Variable correlation analysis\n",
    "* MinMax Scaler and Cat-encoding\n",
    "* Potential relationship between the variables and the target: Revenue (feature selection)\n",
    "* Overfitting"
   ]
  },
  {
   "cell_type": "markdown",
   "metadata": {},
   "source": [
    "### <font color=\"blue\">Missing value</font>"
   ]
  },
  {
   "cell_type": "code",
   "execution_count": 132,
   "metadata": {},
   "outputs": [
    {
     "data": {
      "text/plain": [
       "Series([], dtype: float64)"
      ]
     },
     "execution_count": 132,
     "metadata": {},
     "output_type": "execute_result"
    }
   ],
   "source": [
    "# make a list of the variables that contain missing values\n",
    "vars_with_na = [var for var in df.columns if df[var].isnull().sum() > 0]\n",
    "\n",
    "# determine percentage of missing values\n",
    "df[vars_with_na].isnull().mean()"
   ]
  },
  {
   "cell_type": "markdown",
   "metadata": {},
   "source": [
    "#### <font color=\"red\">No Null values in the data.</font>"
   ]
  },
  {
   "cell_type": "markdown",
   "metadata": {},
   "source": [
    "### <p style=\"color:blue;\">Numerical variables</p>\n",
    "### Checking the numerical variables in the dataset"
   ]
  },
  {
   "cell_type": "code",
   "execution_count": 133,
   "metadata": {},
   "outputs": [
    {
     "name": "stdout",
     "output_type": "stream",
     "text": [
      "Number of numerical variables:  9\n"
     ]
    },
    {
     "data": {
      "text/html": [
       "<div>\n",
       "<style scoped>\n",
       "    .dataframe tbody tr th:only-of-type {\n",
       "        vertical-align: middle;\n",
       "    }\n",
       "\n",
       "    .dataframe tbody tr th {\n",
       "        vertical-align: top;\n",
       "    }\n",
       "\n",
       "    .dataframe thead th {\n",
       "        text-align: right;\n",
       "    }\n",
       "</style>\n",
       "<table border=\"1\" class=\"dataframe\">\n",
       "  <thead>\n",
       "    <tr style=\"text-align: right;\">\n",
       "      <th></th>\n",
       "      <th>order_item_id</th>\n",
       "      <th>price</th>\n",
       "      <th>revenue</th>\n",
       "      <th>order_date</th>\n",
       "      <th>Monthno</th>\n",
       "      <th>Day</th>\n",
       "      <th>Month</th>\n",
       "      <th>week</th>\n",
       "      <th>year</th>\n",
       "    </tr>\n",
       "  </thead>\n",
       "  <tbody>\n",
       "    <tr>\n",
       "      <th>0</th>\n",
       "      <td>1</td>\n",
       "      <td>89.9</td>\n",
       "      <td>117.86</td>\n",
       "      <td>2016-10-06 15:56:27</td>\n",
       "      <td>1.0</td>\n",
       "      <td>6</td>\n",
       "      <td>10</td>\n",
       "      <td>40</td>\n",
       "      <td>2016</td>\n",
       "    </tr>\n",
       "    <tr>\n",
       "      <th>1</th>\n",
       "      <td>2</td>\n",
       "      <td>38.0</td>\n",
       "      <td>218.87</td>\n",
       "      <td>2016-10-07 03:10:10</td>\n",
       "      <td>1.0</td>\n",
       "      <td>7</td>\n",
       "      <td>10</td>\n",
       "      <td>40</td>\n",
       "      <td>2016</td>\n",
       "    </tr>\n",
       "    <tr>\n",
       "      <th>2</th>\n",
       "      <td>2</td>\n",
       "      <td>38.0</td>\n",
       "      <td>218.87</td>\n",
       "      <td>2016-10-07 03:10:10</td>\n",
       "      <td>1.0</td>\n",
       "      <td>7</td>\n",
       "      <td>10</td>\n",
       "      <td>40</td>\n",
       "      <td>2016</td>\n",
       "    </tr>\n",
       "    <tr>\n",
       "      <th>3</th>\n",
       "      <td>2</td>\n",
       "      <td>38.0</td>\n",
       "      <td>218.87</td>\n",
       "      <td>2016-10-07 03:10:10</td>\n",
       "      <td>1.0</td>\n",
       "      <td>7</td>\n",
       "      <td>10</td>\n",
       "      <td>40</td>\n",
       "      <td>2016</td>\n",
       "    </tr>\n",
       "    <tr>\n",
       "      <th>4</th>\n",
       "      <td>2</td>\n",
       "      <td>38.0</td>\n",
       "      <td>218.87</td>\n",
       "      <td>2016-10-07 03:10:10</td>\n",
       "      <td>1.0</td>\n",
       "      <td>7</td>\n",
       "      <td>10</td>\n",
       "      <td>40</td>\n",
       "      <td>2016</td>\n",
       "    </tr>\n",
       "  </tbody>\n",
       "</table>\n",
       "</div>"
      ],
      "text/plain": [
       "   order_item_id  price  revenue          order_date  Monthno  Day  Month  \\\n",
       "0              1   89.9   117.86 2016-10-06 15:56:27      1.0    6     10   \n",
       "1              2   38.0   218.87 2016-10-07 03:10:10      1.0    7     10   \n",
       "2              2   38.0   218.87 2016-10-07 03:10:10      1.0    7     10   \n",
       "3              2   38.0   218.87 2016-10-07 03:10:10      1.0    7     10   \n",
       "4              2   38.0   218.87 2016-10-07 03:10:10      1.0    7     10   \n",
       "\n",
       "   week  year  \n",
       "0    40  2016  \n",
       "1    40  2016  \n",
       "2    40  2016  \n",
       "3    40  2016  \n",
       "4    40  2016  "
      ]
     },
     "execution_count": 133,
     "metadata": {},
     "output_type": "execute_result"
    }
   ],
   "source": [
    "num_vars = [var for var in df.columns if df[var].dtypes != 'O'] #not equal to object type.\n",
    "\n",
    "print('Number of numerical variables: ', len(num_vars))\n",
    "\n",
    "\n",
    "df[num_vars].head()"
   ]
  },
  {
   "cell_type": "markdown",
   "metadata": {},
   "source": [
    "## Discrete variable analysis"
   ]
  },
  {
   "cell_type": "code",
   "execution_count": 134,
   "metadata": {},
   "outputs": [
    {
     "name": "stdout",
     "output_type": "stream",
     "text": [
      "Number of discrete variables:  2\n"
     ]
    }
   ],
   "source": [
    "#  let's male a list of discrete variables\n",
    "discrete_vars = [var for var in num_vars if len(\n",
    "    df[var].unique()) < 20 ]\n",
    "\n",
    "\n",
    "print('Number of discrete variables: ', len(discrete_vars))"
   ]
  },
  {
   "cell_type": "code",
   "execution_count": 135,
   "metadata": {},
   "outputs": [
    {
     "data": {
      "image/png": "[encoded data removed]",
      "text/plain": [
       "<Figure size 432x288 with 1 Axes>"
      ]
     },
     "metadata": {
      "needs_background": "light"
     },
     "output_type": "display_data"
    },
    {
     "data": {
      "image/png": "[encoded data removed]",
      "text/plain": [
       "<Figure size 432x288 with 1 Axes>"
      ]
     },
     "metadata": {
      "needs_background": "light"
     },
     "output_type": "display_data"
    }
   ],
   "source": [
    "def analyse_discrete(df, var):\n",
    "    df = df.copy()\n",
    "    df.groupby(var)['revenue'].median().plot.bar()\n",
    "    plt.title(var)\n",
    "    plt.ylabel('Median revenue')\n",
    "    plt.show()\n",
    "    \n",
    "for var in discrete_vars:\n",
    "    analyse_discrete(df, var)"
   ]
  },
  {
   "cell_type": "markdown",
   "metadata": {},
   "source": [
    "## Continous variable"
   ]
  },
  {
   "cell_type": "code",
   "execution_count": 136,
   "metadata": {},
   "outputs": [],
   "source": [
    "contvars = ['order_date','Monthno','week','Day']"
   ]
  },
  {
   "cell_type": "code",
   "execution_count": 137,
   "metadata": {},
   "outputs": [
    {
     "name": "stdout",
     "output_type": "stream",
     "text": [
      "Number of continuous variables:  7\n"
     ]
    }
   ],
   "source": [
    "cont_vars = [\n",
    "    var for var in num_vars if var not in discrete_vars]\n",
    "\n",
    "print('Number of continuous variables: ', len(cont_vars))"
   ]
  },
  {
   "cell_type": "code",
   "execution_count": 138,
   "metadata": {},
   "outputs": [
    {
     "data": {
      "image/png": "[encoded data removed]",
      "text/plain": [
       "<Figure size 432x288 with 1 Axes>"
      ]
     },
     "metadata": {
      "needs_background": "light"
     },
     "output_type": "display_data"
    },
    {
     "data": {
      "image/png": "[encoded data removed]",
      "text/plain": [
       "<Figure size 432x288 with 1 Axes>"
      ]
     },
     "metadata": {
      "needs_background": "light"
     },
     "output_type": "display_data"
    },
    {
     "data": {
      "image/png": "[encoded data removed]",
      "text/plain": [
       "<Figure size 432x288 with 1 Axes>"
      ]
     },
     "metadata": {
      "needs_background": "light"
     },
     "output_type": "display_data"
    },
    {
     "data": {
      "image/png": "[encoded data removed]",
      "text/plain": [
       "<Figure size 432x288 with 1 Axes>"
      ]
     },
     "metadata": {
      "needs_background": "light"
     },
     "output_type": "display_data"
    }
   ],
   "source": [
    "# Selecting only Days and week to analyse the number of product sold in each day and week\n",
    "def analyse_continuous(df, var):\n",
    "    df = df.copy()\n",
    "    df[var].hist(bins=20)\n",
    "    plt.ylabel('Revenue')\n",
    "    plt.xlabel(var)\n",
    "    plt.title(var)\n",
    "    plt.show()\n",
    "\n",
    "\n",
    "for var in contvars:\n",
    "    analyse_continuous(df, var)"
   ]
  },
  {
   "cell_type": "markdown",
   "metadata": {},
   "source": [
    "## <font color=\"blue\">Outlier Analysis</font>"
   ]
  },
  {
   "cell_type": "code",
   "execution_count": 139,
   "metadata": {},
   "outputs": [],
   "source": [
    "#dropping the orderdate column\n",
    "data_wo = df.drop('order_date',axis=1)"
   ]
  },
  {
   "cell_type": "code",
   "execution_count": 140,
   "metadata": {},
   "outputs": [],
   "source": [
    "#Boxplots to visualise outliers in the continuous variables\n",
    "def find_outliers(df, var):\n",
    "    df = df.copy()\n",
    "\n",
    "   \n",
    "    if any(df[var] <= 0):\n",
    "        pass\n",
    "    else:\n",
    "        df[var] = np.log(df[var])\n",
    "        df.boxplot(column=var)\n",
    "        plt.title(var)\n",
    "        plt.ylabel(var)\n",
    "        plt.show()\n",
    "\n"
   ]
  },
  {
   "cell_type": "code",
   "execution_count": 141,
   "metadata": {},
   "outputs": [
    {
     "data": {
      "image/png": "[encoded data removed]",
      "text/plain": [
       "<Figure size 432x288 with 1 Axes>"
      ]
     },
     "metadata": {
      "needs_background": "light"
     },
     "output_type": "display_data"
    },
    {
     "data": {
      "image/png": "[encoded data removed]",
      "text/plain": [
       "<Figure size 432x288 with 1 Axes>"
      ]
     },
     "metadata": {
      "needs_background": "light"
     },
     "output_type": "display_data"
    },
    {
     "data": {
      "image/png": "[encoded data removed]",
      "text/plain": [
       "<Figure size 432x288 with 1 Axes>"
      ]
     },
     "metadata": {
      "needs_background": "light"
     },
     "output_type": "display_data"
    },
    {
     "data": {
      "image/png": "[encoded data removed]",
      "text/plain": [
       "<Figure size 432x288 with 1 Axes>"
      ]
     },
     "metadata": {
      "needs_background": "light"
     },
     "output_type": "display_data"
    },
    {
     "data": {
      "image/png": "[encoded data removed]",
      "text/plain": [
       "<Figure size 432x288 with 1 Axes>"
      ]
     },
     "metadata": {
      "needs_background": "light"
     },
     "output_type": "display_data"
    }
   ],
   "source": [
    "cont_vars.remove('order_date')\n",
    "for var in cont_vars:\n",
    "    find_outliers(data_wo, var)"
   ]
  },
  {
   "cell_type": "markdown",
   "metadata": {},
   "source": [
    "### <font color=\"blue\">Categorical Variable</font>"
   ]
  },
  {
   "cell_type": "code",
   "execution_count": 142,
   "metadata": {},
   "outputs": [
    {
     "name": "stdout",
     "output_type": "stream",
     "text": [
      "Number of categorical variables:  6\n"
     ]
    },
    {
     "data": {
      "text/html": [
       "<div>\n",
       "<style scoped>\n",
       "    .dataframe tbody tr th:only-of-type {\n",
       "        vertical-align: middle;\n",
       "    }\n",
       "\n",
       "    .dataframe tbody tr th {\n",
       "        vertical-align: top;\n",
       "    }\n",
       "\n",
       "    .dataframe thead th {\n",
       "        text-align: right;\n",
       "    }\n",
       "</style>\n",
       "<table border=\"1\" class=\"dataframe\">\n",
       "  <thead>\n",
       "    <tr style=\"text-align: right;\">\n",
       "      <th></th>\n",
       "      <th>order_id</th>\n",
       "      <th>product_id</th>\n",
       "      <th>product_category_name</th>\n",
       "      <th>customer_id</th>\n",
       "      <th>payment_type</th>\n",
       "      <th>day</th>\n",
       "    </tr>\n",
       "  </thead>\n",
       "  <tbody>\n",
       "    <tr>\n",
       "      <th>0</th>\n",
       "      <td>a041155864e5141116458291313b35c2</td>\n",
       "      <td>29bedbfbe73ea473396306b4f0c010ec</td>\n",
       "      <td>utilidades_domesticas</td>\n",
       "      <td>8fbab2ff4df1a7cc9531b14a686bb3ce</td>\n",
       "      <td>credit_card</td>\n",
       "      <td>06/10/2016</td>\n",
       "    </tr>\n",
       "    <tr>\n",
       "      <th>1</th>\n",
       "      <td>35b8e54d765e6b217e2dc5ab34f6b323</td>\n",
       "      <td>2c41d13dc2cf0e9c2e8db8952f0f3ff3</td>\n",
       "      <td>informatica_acessorios</td>\n",
       "      <td>1aaa5eaa9dd9bafb385aadc1930ef8e4</td>\n",
       "      <td>boleto</td>\n",
       "      <td>07/10/2016</td>\n",
       "    </tr>\n",
       "    <tr>\n",
       "      <th>2</th>\n",
       "      <td>35b8e54d765e6b217e2dc5ab34f6b323</td>\n",
       "      <td>2c41d13dc2cf0e9c2e8db8952f0f3ff3</td>\n",
       "      <td>informatica_acessorios</td>\n",
       "      <td>1aaa5eaa9dd9bafb385aadc1930ef8e4</td>\n",
       "      <td>boleto</td>\n",
       "      <td>07/10/2016</td>\n",
       "    </tr>\n",
       "    <tr>\n",
       "      <th>3</th>\n",
       "      <td>35b8e54d765e6b217e2dc5ab34f6b323</td>\n",
       "      <td>2c41d13dc2cf0e9c2e8db8952f0f3ff3</td>\n",
       "      <td>informatica_acessorios</td>\n",
       "      <td>1aaa5eaa9dd9bafb385aadc1930ef8e4</td>\n",
       "      <td>boleto</td>\n",
       "      <td>07/10/2016</td>\n",
       "    </tr>\n",
       "    <tr>\n",
       "      <th>4</th>\n",
       "      <td>35b8e54d765e6b217e2dc5ab34f6b323</td>\n",
       "      <td>2c41d13dc2cf0e9c2e8db8952f0f3ff3</td>\n",
       "      <td>informatica_acessorios</td>\n",
       "      <td>1aaa5eaa9dd9bafb385aadc1930ef8e4</td>\n",
       "      <td>boleto</td>\n",
       "      <td>07/10/2016</td>\n",
       "    </tr>\n",
       "  </tbody>\n",
       "</table>\n",
       "</div>"
      ],
      "text/plain": [
       "                           order_id                        product_id  \\\n",
       "0  a041155864e5141116458291313b35c2  29bedbfbe73ea473396306b4f0c010ec   \n",
       "1  35b8e54d765e6b217e2dc5ab34f6b323  2c41d13dc2cf0e9c2e8db8952f0f3ff3   \n",
       "2  35b8e54d765e6b217e2dc5ab34f6b323  2c41d13dc2cf0e9c2e8db8952f0f3ff3   \n",
       "3  35b8e54d765e6b217e2dc5ab34f6b323  2c41d13dc2cf0e9c2e8db8952f0f3ff3   \n",
       "4  35b8e54d765e6b217e2dc5ab34f6b323  2c41d13dc2cf0e9c2e8db8952f0f3ff3   \n",
       "\n",
       "    product_category_name                       customer_id payment_type  \\\n",
       "0   utilidades_domesticas  8fbab2ff4df1a7cc9531b14a686bb3ce  credit_card   \n",
       "1  informatica_acessorios  1aaa5eaa9dd9bafb385aadc1930ef8e4       boleto   \n",
       "2  informatica_acessorios  1aaa5eaa9dd9bafb385aadc1930ef8e4       boleto   \n",
       "3  informatica_acessorios  1aaa5eaa9dd9bafb385aadc1930ef8e4       boleto   \n",
       "4  informatica_acessorios  1aaa5eaa9dd9bafb385aadc1930ef8e4       boleto   \n",
       "\n",
       "          day  \n",
       "0  06/10/2016  \n",
       "1  07/10/2016  \n",
       "2  07/10/2016  \n",
       "3  07/10/2016  \n",
       "4  07/10/2016  "
      ]
     },
     "execution_count": 142,
     "metadata": {},
     "output_type": "execute_result"
    }
   ],
   "source": [
    "cat_vars = [var for var in df.columns if df[var].dtypes == 'O']\n",
    "\n",
    "print('Number of categorical variables: ', len(cat_vars))\n",
    "df[cat_vars].head()"
   ]
  },
  {
   "cell_type": "code",
   "execution_count": 143,
   "metadata": {},
   "outputs": [
    {
     "data": {
      "text/plain": [
       "order_id                 97261\n",
       "product_id               32338\n",
       "product_category_name       73\n",
       "customer_id              97261\n",
       "payment_type                 4\n",
       "day                        607\n",
       "dtype: int64"
      ]
     },
     "execution_count": 143,
     "metadata": {},
     "output_type": "execute_result"
    }
   ],
   "source": [
    "#Unique categorical variables in 6 columns.\n",
    "df[cat_vars].nunique()"
   ]
  },
  {
   "cell_type": "code",
   "execution_count": 144,
   "metadata": {},
   "outputs": [
    {
     "data": {
      "text/plain": [
       "<matplotlib.axes._subplots.AxesSubplot at 0x208519e5288>"
      ]
     },
     "execution_count": 144,
     "metadata": {},
     "output_type": "execute_result"
    },
    {
     "data": {
      "image/png": "[encoded data removed]",
      "text/plain": [
       "<Figure size 432x288 with 1 Axes>"
      ]
     },
     "metadata": {
      "needs_background": "light"
     },
     "output_type": "display_data"
    }
   ],
   "source": [
    "df['revenue'].plot()"
   ]
  },
  {
   "cell_type": "code",
   "execution_count": 145,
   "metadata": {},
   "outputs": [
    {
     "data": {
      "text/plain": [
       "16.70      95256\n",
       "2.61       83474\n",
       "0.28       12016\n",
       "0.24       11916\n",
       "2.60       11916\n",
       "           ...  \n",
       "77.36          1\n",
       "149.83         1\n",
       "1210.62        1\n",
       "573.68         1\n",
       "65.98          1\n",
       "Name: revenue, Length: 28769, dtype: int64"
      ]
     },
     "execution_count": 145,
     "metadata": {},
     "output_type": "execute_result"
    }
   ],
   "source": [
    "## As seen from the plot some values are repeating a lot and it can effect the model \n",
    "## products with Two values 16.70 and 2.6\n",
    "df['revenue'].value_counts()"
   ]
  },
  {
   "cell_type": "markdown",
   "metadata": {},
   "source": [
    "#### 'cama_mesa_banho', 'utilidades_domesticas' and 'automotive' this two product category with revenue 16.70 and 2.61 has been purchased by large number of consumers"
   ]
  },
  {
   "cell_type": "code",
   "execution_count": 146,
   "metadata": {},
   "outputs": [
    {
     "data": {
      "text/plain": [
       "array(['cama_mesa_banho', 'utilidades_domesticas'], dtype=object)"
      ]
     },
     "execution_count": 146,
     "metadata": {},
     "output_type": "execute_result"
    }
   ],
   "source": [
    "df[df['revenue'] == 16.70]['product_category_name'].unique()"
   ]
  },
  {
   "cell_type": "code",
   "execution_count": 147,
   "metadata": {},
   "outputs": [
    {
     "data": {
      "text/plain": [
       "array(['cama_mesa_banho', 'utilidades_domesticas', 'automotivo'],\n",
       "      dtype=object)"
      ]
     },
     "execution_count": 147,
     "metadata": {},
     "output_type": "execute_result"
    }
   ],
   "source": [
    "df[df['revenue'] == 2.61]['product_category_name'].unique()"
   ]
  },
  {
   "cell_type": "markdown",
   "metadata": {},
   "source": [
    "### Removing this values as it effected the model and accuracy measured was 28.656. However from business point of view we can't remove values as it decreases efficiency in real time data."
   ]
  },
  {
   "cell_type": "code",
   "execution_count": 148,
   "metadata": {},
   "outputs": [],
   "source": [
    "df=df[df.revenue != 16.70] "
   ]
  },
  {
   "cell_type": "code",
   "execution_count": 149,
   "metadata": {},
   "outputs": [],
   "source": [
    "df=df[df.revenue != 2.61] "
   ]
  },
  {
   "cell_type": "code",
   "execution_count": 150,
   "metadata": {},
   "outputs": [],
   "source": [
    "#from scipy.stats import boxcox\n",
    "#from numpy import log\n",
    "#df['revenue'] = log(df['revenue'])"
   ]
  },
  {
   "cell_type": "code",
   "execution_count": 151,
   "metadata": {},
   "outputs": [],
   "source": [
    "#df['revenue'].plot()"
   ]
  },
  {
   "cell_type": "markdown",
   "metadata": {},
   "source": [
    "#Input contains NaN, infinity or a value too large for dtype('float64'). logtransform generates infinite value which is not acceptable by ML algorithms"
   ]
  },
  {
   "cell_type": "markdown",
   "metadata": {},
   "source": [
    "### <font color=\"blue\">Preprocessing MinMax and cat encoding of variables</font>"
   ]
  },
  {
   "cell_type": "code",
   "execution_count": 152,
   "metadata": {},
   "outputs": [],
   "source": [
    "df['order_id'] = df['order_id'].astype('category').cat.codes\n",
    "df['product_id'] = df['product_id'].astype('category').cat.codes\n",
    "df['product_category_name'] = df['product_category_name'].astype('category').cat.codes\n",
    "df['customer_id'] = df['customer_id'].astype('category').cat.codes\n",
    "df['payment_type'] = df['payment_type'].astype('category').cat.codes\n"
   ]
  },
  {
   "cell_type": "code",
   "execution_count": 153,
   "metadata": {},
   "outputs": [],
   "source": [
    "from sklearn import preprocessing\n",
    "min_max_scaler = preprocessing.MinMaxScaler()\n",
    "df[['order_item_id']] = min_max_scaler.fit_transform(df[['order_item_id']])\n",
    "df[['order_id']] = min_max_scaler.fit_transform(df[['order_id']])\n",
    "df[['product_id']] = min_max_scaler.fit_transform(df[['product_id']])\n",
    "df[['customer_id']] = min_max_scaler.fit_transform(df[['customer_id']])"
   ]
  },
  {
   "cell_type": "code",
   "execution_count": 154,
   "metadata": {},
   "outputs": [
    {
     "data": {
      "text/html": [
       "<div>\n",
       "<style scoped>\n",
       "    .dataframe tbody tr th:only-of-type {\n",
       "        vertical-align: middle;\n",
       "    }\n",
       "\n",
       "    .dataframe tbody tr th {\n",
       "        vertical-align: top;\n",
       "    }\n",
       "\n",
       "    .dataframe thead th {\n",
       "        text-align: right;\n",
       "    }\n",
       "</style>\n",
       "<table border=\"1\" class=\"dataframe\">\n",
       "  <thead>\n",
       "    <tr style=\"text-align: right;\">\n",
       "      <th></th>\n",
       "      <th>order_id</th>\n",
       "      <th>order_item_id</th>\n",
       "      <th>product_id</th>\n",
       "      <th>product_category_name</th>\n",
       "      <th>customer_id</th>\n",
       "      <th>payment_type</th>\n",
       "      <th>price</th>\n",
       "      <th>revenue</th>\n",
       "      <th>order_date</th>\n",
       "      <th>day</th>\n",
       "      <th>Monthno</th>\n",
       "      <th>Day</th>\n",
       "      <th>Month</th>\n",
       "      <th>week</th>\n",
       "      <th>year</th>\n",
       "    </tr>\n",
       "  </thead>\n",
       "  <tbody>\n",
       "    <tr>\n",
       "      <th>0</th>\n",
       "      <td>0.622949</td>\n",
       "      <td>0.00</td>\n",
       "      <td>0.166651</td>\n",
       "      <td>72</td>\n",
       "      <td>0.560714</td>\n",
       "      <td>1</td>\n",
       "      <td>89.9</td>\n",
       "      <td>117.86</td>\n",
       "      <td>2016-10-06 15:56:27</td>\n",
       "      <td>06/10/2016</td>\n",
       "      <td>1.0</td>\n",
       "      <td>6</td>\n",
       "      <td>10</td>\n",
       "      <td>40</td>\n",
       "      <td>2016</td>\n",
       "    </tr>\n",
       "    <tr>\n",
       "      <th>1</th>\n",
       "      <td>0.208966</td>\n",
       "      <td>0.05</td>\n",
       "      <td>0.176702</td>\n",
       "      <td>44</td>\n",
       "      <td>0.104575</td>\n",
       "      <td>0</td>\n",
       "      <td>38.0</td>\n",
       "      <td>218.87</td>\n",
       "      <td>2016-10-07 03:10:10</td>\n",
       "      <td>07/10/2016</td>\n",
       "      <td>1.0</td>\n",
       "      <td>7</td>\n",
       "      <td>10</td>\n",
       "      <td>40</td>\n",
       "      <td>2016</td>\n",
       "    </tr>\n",
       "    <tr>\n",
       "      <th>2</th>\n",
       "      <td>0.208966</td>\n",
       "      <td>0.05</td>\n",
       "      <td>0.176702</td>\n",
       "      <td>44</td>\n",
       "      <td>0.104575</td>\n",
       "      <td>0</td>\n",
       "      <td>38.0</td>\n",
       "      <td>218.87</td>\n",
       "      <td>2016-10-07 03:10:10</td>\n",
       "      <td>07/10/2016</td>\n",
       "      <td>1.0</td>\n",
       "      <td>7</td>\n",
       "      <td>10</td>\n",
       "      <td>40</td>\n",
       "      <td>2016</td>\n",
       "    </tr>\n",
       "    <tr>\n",
       "      <th>3</th>\n",
       "      <td>0.208966</td>\n",
       "      <td>0.05</td>\n",
       "      <td>0.176702</td>\n",
       "      <td>44</td>\n",
       "      <td>0.104575</td>\n",
       "      <td>0</td>\n",
       "      <td>38.0</td>\n",
       "      <td>218.87</td>\n",
       "      <td>2016-10-07 03:10:10</td>\n",
       "      <td>07/10/2016</td>\n",
       "      <td>1.0</td>\n",
       "      <td>7</td>\n",
       "      <td>10</td>\n",
       "      <td>40</td>\n",
       "      <td>2016</td>\n",
       "    </tr>\n",
       "    <tr>\n",
       "      <th>4</th>\n",
       "      <td>0.208966</td>\n",
       "      <td>0.05</td>\n",
       "      <td>0.176702</td>\n",
       "      <td>44</td>\n",
       "      <td>0.104575</td>\n",
       "      <td>0</td>\n",
       "      <td>38.0</td>\n",
       "      <td>218.87</td>\n",
       "      <td>2016-10-07 03:10:10</td>\n",
       "      <td>07/10/2016</td>\n",
       "      <td>1.0</td>\n",
       "      <td>7</td>\n",
       "      <td>10</td>\n",
       "      <td>40</td>\n",
       "      <td>2016</td>\n",
       "    </tr>\n",
       "  </tbody>\n",
       "</table>\n",
       "</div>"
      ],
      "text/plain": [
       "   order_id  order_item_id  product_id  product_category_name  customer_id  \\\n",
       "0  0.622949           0.00    0.166651                     72     0.560714   \n",
       "1  0.208966           0.05    0.176702                     44     0.104575   \n",
       "2  0.208966           0.05    0.176702                     44     0.104575   \n",
       "3  0.208966           0.05    0.176702                     44     0.104575   \n",
       "4  0.208966           0.05    0.176702                     44     0.104575   \n",
       "\n",
       "   payment_type  price  revenue          order_date         day  Monthno  Day  \\\n",
       "0             1   89.9   117.86 2016-10-06 15:56:27  06/10/2016      1.0    6   \n",
       "1             0   38.0   218.87 2016-10-07 03:10:10  07/10/2016      1.0    7   \n",
       "2             0   38.0   218.87 2016-10-07 03:10:10  07/10/2016      1.0    7   \n",
       "3             0   38.0   218.87 2016-10-07 03:10:10  07/10/2016      1.0    7   \n",
       "4             0   38.0   218.87 2016-10-07 03:10:10  07/10/2016      1.0    7   \n",
       "\n",
       "   Month  week  year  \n",
       "0     10    40  2016  \n",
       "1     10    40  2016  \n",
       "2     10    40  2016  \n",
       "3     10    40  2016  \n",
       "4     10    40  2016  "
      ]
     },
     "execution_count": 154,
     "metadata": {},
     "output_type": "execute_result"
    }
   ],
   "source": [
    "df.head()"
   ]
  },
  {
   "cell_type": "markdown",
   "metadata": {},
   "source": [
    "### <font color=\"blue\">Correlation analysis</font>"
   ]
  },
  {
   "cell_type": "code",
   "execution_count": 155,
   "metadata": {},
   "outputs": [],
   "source": [
    "corrmat = df.corr()"
   ]
  },
  {
   "cell_type": "code",
   "execution_count": 156,
   "metadata": {},
   "outputs": [
    {
     "data": {
      "text/html": [
       "<div>\n",
       "<style scoped>\n",
       "    .dataframe tbody tr th:only-of-type {\n",
       "        vertical-align: middle;\n",
       "    }\n",
       "\n",
       "    .dataframe tbody tr th {\n",
       "        vertical-align: top;\n",
       "    }\n",
       "\n",
       "    .dataframe thead th {\n",
       "        text-align: right;\n",
       "    }\n",
       "</style>\n",
       "<table border=\"1\" class=\"dataframe\">\n",
       "  <thead>\n",
       "    <tr style=\"text-align: right;\">\n",
       "      <th></th>\n",
       "      <th>order_id</th>\n",
       "      <th>order_item_id</th>\n",
       "      <th>product_id</th>\n",
       "      <th>product_category_name</th>\n",
       "      <th>customer_id</th>\n",
       "      <th>payment_type</th>\n",
       "      <th>price</th>\n",
       "      <th>revenue</th>\n",
       "      <th>Monthno</th>\n",
       "      <th>Day</th>\n",
       "      <th>Month</th>\n",
       "      <th>week</th>\n",
       "      <th>year</th>\n",
       "    </tr>\n",
       "  </thead>\n",
       "  <tbody>\n",
       "    <tr>\n",
       "      <th>order_id</th>\n",
       "      <td>1.000000</td>\n",
       "      <td>-0.092089</td>\n",
       "      <td>-0.261302</td>\n",
       "      <td>0.109862</td>\n",
       "      <td>-0.059893</td>\n",
       "      <td>0.175125</td>\n",
       "      <td>0.039133</td>\n",
       "      <td>-0.108481</td>\n",
       "      <td>-0.239264</td>\n",
       "      <td>0.124904</td>\n",
       "      <td>0.092786</td>\n",
       "      <td>0.104580</td>\n",
       "      <td>-0.247159</td>\n",
       "    </tr>\n",
       "    <tr>\n",
       "      <th>order_item_id</th>\n",
       "      <td>-0.092089</td>\n",
       "      <td>1.000000</td>\n",
       "      <td>0.018358</td>\n",
       "      <td>0.024104</td>\n",
       "      <td>0.177151</td>\n",
       "      <td>-0.301635</td>\n",
       "      <td>-0.114571</td>\n",
       "      <td>0.437419</td>\n",
       "      <td>0.056328</td>\n",
       "      <td>0.107211</td>\n",
       "      <td>-0.044152</td>\n",
       "      <td>-0.033572</td>\n",
       "      <td>0.069772</td>\n",
       "    </tr>\n",
       "    <tr>\n",
       "      <th>product_id</th>\n",
       "      <td>-0.261302</td>\n",
       "      <td>0.018358</td>\n",
       "      <td>1.000000</td>\n",
       "      <td>-0.163682</td>\n",
       "      <td>0.043256</td>\n",
       "      <td>-0.102421</td>\n",
       "      <td>-0.156286</td>\n",
       "      <td>0.075345</td>\n",
       "      <td>0.070276</td>\n",
       "      <td>-0.172451</td>\n",
       "      <td>0.023856</td>\n",
       "      <td>0.007420</td>\n",
       "      <td>0.046165</td>\n",
       "    </tr>\n",
       "    <tr>\n",
       "      <th>product_category_name</th>\n",
       "      <td>0.109862</td>\n",
       "      <td>0.024104</td>\n",
       "      <td>-0.163682</td>\n",
       "      <td>1.000000</td>\n",
       "      <td>-0.096125</td>\n",
       "      <td>-0.074870</td>\n",
       "      <td>-0.010458</td>\n",
       "      <td>0.037245</td>\n",
       "      <td>0.020893</td>\n",
       "      <td>0.101867</td>\n",
       "      <td>0.050613</td>\n",
       "      <td>0.060853</td>\n",
       "      <td>-0.008752</td>\n",
       "    </tr>\n",
       "    <tr>\n",
       "      <th>customer_id</th>\n",
       "      <td>-0.059893</td>\n",
       "      <td>0.177151</td>\n",
       "      <td>0.043256</td>\n",
       "      <td>-0.096125</td>\n",
       "      <td>1.000000</td>\n",
       "      <td>-0.237956</td>\n",
       "      <td>0.076645</td>\n",
       "      <td>0.120868</td>\n",
       "      <td>0.058391</td>\n",
       "      <td>-0.009539</td>\n",
       "      <td>-0.186826</td>\n",
       "      <td>-0.193572</td>\n",
       "      <td>0.144928</td>\n",
       "    </tr>\n",
       "    <tr>\n",
       "      <th>payment_type</th>\n",
       "      <td>0.175125</td>\n",
       "      <td>-0.301635</td>\n",
       "      <td>-0.102421</td>\n",
       "      <td>-0.074870</td>\n",
       "      <td>-0.237956</td>\n",
       "      <td>1.000000</td>\n",
       "      <td>0.070381</td>\n",
       "      <td>-0.388079</td>\n",
       "      <td>-0.273975</td>\n",
       "      <td>-0.086513</td>\n",
       "      <td>0.088299</td>\n",
       "      <td>0.081207</td>\n",
       "      <td>-0.273690</td>\n",
       "    </tr>\n",
       "    <tr>\n",
       "      <th>price</th>\n",
       "      <td>0.039133</td>\n",
       "      <td>-0.114571</td>\n",
       "      <td>-0.156286</td>\n",
       "      <td>-0.010458</td>\n",
       "      <td>0.076645</td>\n",
       "      <td>0.070381</td>\n",
       "      <td>1.000000</td>\n",
       "      <td>0.321462</td>\n",
       "      <td>-0.095760</td>\n",
       "      <td>0.114015</td>\n",
       "      <td>-0.146430</td>\n",
       "      <td>-0.137873</td>\n",
       "      <td>-0.004699</td>\n",
       "    </tr>\n",
       "    <tr>\n",
       "      <th>revenue</th>\n",
       "      <td>-0.108481</td>\n",
       "      <td>0.437419</td>\n",
       "      <td>0.075345</td>\n",
       "      <td>0.037245</td>\n",
       "      <td>0.120868</td>\n",
       "      <td>-0.388079</td>\n",
       "      <td>0.321462</td>\n",
       "      <td>1.000000</td>\n",
       "      <td>0.096521</td>\n",
       "      <td>0.066309</td>\n",
       "      <td>-0.034439</td>\n",
       "      <td>-0.028650</td>\n",
       "      <td>0.098253</td>\n",
       "    </tr>\n",
       "    <tr>\n",
       "      <th>Monthno</th>\n",
       "      <td>-0.239264</td>\n",
       "      <td>0.056328</td>\n",
       "      <td>0.070276</td>\n",
       "      <td>0.020893</td>\n",
       "      <td>0.058391</td>\n",
       "      <td>-0.273975</td>\n",
       "      <td>-0.095760</td>\n",
       "      <td>0.096521</td>\n",
       "      <td>1.000000</td>\n",
       "      <td>-0.022045</td>\n",
       "      <td>-0.041211</td>\n",
       "      <td>-0.039548</td>\n",
       "      <td>0.857918</td>\n",
       "    </tr>\n",
       "    <tr>\n",
       "      <th>Day</th>\n",
       "      <td>0.124904</td>\n",
       "      <td>0.107211</td>\n",
       "      <td>-0.172451</td>\n",
       "      <td>0.101867</td>\n",
       "      <td>-0.009539</td>\n",
       "      <td>-0.086513</td>\n",
       "      <td>0.114015</td>\n",
       "      <td>0.066309</td>\n",
       "      <td>-0.022045</td>\n",
       "      <td>1.000000</td>\n",
       "      <td>-0.055697</td>\n",
       "      <td>0.039665</td>\n",
       "      <td>0.010977</td>\n",
       "    </tr>\n",
       "    <tr>\n",
       "      <th>Month</th>\n",
       "      <td>0.092786</td>\n",
       "      <td>-0.044152</td>\n",
       "      <td>0.023856</td>\n",
       "      <td>0.050613</td>\n",
       "      <td>-0.186826</td>\n",
       "      <td>0.088299</td>\n",
       "      <td>-0.146430</td>\n",
       "      <td>-0.034439</td>\n",
       "      <td>-0.041211</td>\n",
       "      <td>-0.055697</td>\n",
       "      <td>1.000000</td>\n",
       "      <td>0.995196</td>\n",
       "      <td>-0.548457</td>\n",
       "    </tr>\n",
       "    <tr>\n",
       "      <th>week</th>\n",
       "      <td>0.104580</td>\n",
       "      <td>-0.033572</td>\n",
       "      <td>0.007420</td>\n",
       "      <td>0.060853</td>\n",
       "      <td>-0.193572</td>\n",
       "      <td>0.081207</td>\n",
       "      <td>-0.137873</td>\n",
       "      <td>-0.028650</td>\n",
       "      <td>-0.039548</td>\n",
       "      <td>0.039665</td>\n",
       "      <td>0.995196</td>\n",
       "      <td>1.000000</td>\n",
       "      <td>-0.544523</td>\n",
       "    </tr>\n",
       "    <tr>\n",
       "      <th>year</th>\n",
       "      <td>-0.247159</td>\n",
       "      <td>0.069772</td>\n",
       "      <td>0.046165</td>\n",
       "      <td>-0.008752</td>\n",
       "      <td>0.144928</td>\n",
       "      <td>-0.273690</td>\n",
       "      <td>-0.004699</td>\n",
       "      <td>0.098253</td>\n",
       "      <td>0.857918</td>\n",
       "      <td>0.010977</td>\n",
       "      <td>-0.548457</td>\n",
       "      <td>-0.544523</td>\n",
       "      <td>1.000000</td>\n",
       "    </tr>\n",
       "  </tbody>\n",
       "</table>\n",
       "</div>"
      ],
      "text/plain": [
       "                       order_id  order_item_id  product_id  \\\n",
       "order_id               1.000000      -0.092089   -0.261302   \n",
       "order_item_id         -0.092089       1.000000    0.018358   \n",
       "product_id            -0.261302       0.018358    1.000000   \n",
       "product_category_name  0.109862       0.024104   -0.163682   \n",
       "customer_id           -0.059893       0.177151    0.043256   \n",
       "payment_type           0.175125      -0.301635   -0.102421   \n",
       "price                  0.039133      -0.114571   -0.156286   \n",
       "revenue               -0.108481       0.437419    0.075345   \n",
       "Monthno               -0.239264       0.056328    0.070276   \n",
       "Day                    0.124904       0.107211   -0.172451   \n",
       "Month                  0.092786      -0.044152    0.023856   \n",
       "week                   0.104580      -0.033572    0.007420   \n",
       "year                  -0.247159       0.069772    0.046165   \n",
       "\n",
       "                       product_category_name  customer_id  payment_type  \\\n",
       "order_id                            0.109862    -0.059893      0.175125   \n",
       "order_item_id                       0.024104     0.177151     -0.301635   \n",
       "product_id                         -0.163682     0.043256     -0.102421   \n",
       "product_category_name               1.000000    -0.096125     -0.074870   \n",
       "customer_id                        -0.096125     1.000000     -0.237956   \n",
       "payment_type                       -0.074870    -0.237956      1.000000   \n",
       "price                              -0.010458     0.076645      0.070381   \n",
       "revenue                             0.037245     0.120868     -0.388079   \n",
       "Monthno                             0.020893     0.058391     -0.273975   \n",
       "Day                                 0.101867    -0.009539     -0.086513   \n",
       "Month                               0.050613    -0.186826      0.088299   \n",
       "week                                0.060853    -0.193572      0.081207   \n",
       "year                               -0.008752     0.144928     -0.273690   \n",
       "\n",
       "                          price   revenue   Monthno       Day     Month  \\\n",
       "order_id               0.039133 -0.108481 -0.239264  0.124904  0.092786   \n",
       "order_item_id         -0.114571  0.437419  0.056328  0.107211 -0.044152   \n",
       "product_id            -0.156286  0.075345  0.070276 -0.172451  0.023856   \n",
       "product_category_name -0.010458  0.037245  0.020893  0.101867  0.050613   \n",
       "customer_id            0.076645  0.120868  0.058391 -0.009539 -0.186826   \n",
       "payment_type           0.070381 -0.388079 -0.273975 -0.086513  0.088299   \n",
       "price                  1.000000  0.321462 -0.095760  0.114015 -0.146430   \n",
       "revenue                0.321462  1.000000  0.096521  0.066309 -0.034439   \n",
       "Monthno               -0.095760  0.096521  1.000000 -0.022045 -0.041211   \n",
       "Day                    0.114015  0.066309 -0.022045  1.000000 -0.055697   \n",
       "Month                 -0.146430 -0.034439 -0.041211 -0.055697  1.000000   \n",
       "week                  -0.137873 -0.028650 -0.039548  0.039665  0.995196   \n",
       "year                  -0.004699  0.098253  0.857918  0.010977 -0.548457   \n",
       "\n",
       "                           week      year  \n",
       "order_id               0.104580 -0.247159  \n",
       "order_item_id         -0.033572  0.069772  \n",
       "product_id             0.007420  0.046165  \n",
       "product_category_name  0.060853 -0.008752  \n",
       "customer_id           -0.193572  0.144928  \n",
       "payment_type           0.081207 -0.273690  \n",
       "price                 -0.137873 -0.004699  \n",
       "revenue               -0.028650  0.098253  \n",
       "Monthno               -0.039548  0.857918  \n",
       "Day                    0.039665  0.010977  \n",
       "Month                  0.995196 -0.548457  \n",
       "week                   1.000000 -0.544523  \n",
       "year                  -0.544523  1.000000  "
      ]
     },
     "execution_count": 156,
     "metadata": {},
     "output_type": "execute_result"
    }
   ],
   "source": [
    "corrmat"
   ]
  },
  {
   "cell_type": "code",
   "execution_count": 157,
   "metadata": {},
   "outputs": [
    {
     "data": {
      "text/plain": [
       "<matplotlib.axes._subplots.AxesSubplot at 0x20851702488>"
      ]
     },
     "execution_count": 157,
     "metadata": {},
     "output_type": "execute_result"
    },
    {
     "data": {
      "image/png": "[encoded data removed]",
      "text/plain": [
       "<Figure size 432x288 with 2 Axes>"
      ]
     },
     "metadata": {
      "needs_background": "light"
     },
     "output_type": "display_data"
    }
   ],
   "source": [
    "import seaborn as sns\n",
    "sns.heatmap(corrmat,xticklabels=corrmat.columns,\n",
    "        yticklabels=corrmat.columns)"
   ]
  },
  {
   "cell_type": "code",
   "execution_count": 158,
   "metadata": {},
   "outputs": [],
   "source": [
    "#dropped coloumns having high co-linearity\n",
    "df=df.drop(['year','Month','day'],axis=1)"
   ]
  },
  {
   "cell_type": "code",
   "execution_count": 159,
   "metadata": {},
   "outputs": [],
   "source": [
    "corrmatnew =df.corr()"
   ]
  },
  {
   "cell_type": "code",
   "execution_count": 160,
   "metadata": {},
   "outputs": [
    {
     "data": {
      "text/plain": [
       "<matplotlib.axes._subplots.AxesSubplot at 0x20851885508>"
      ]
     },
     "execution_count": 160,
     "metadata": {},
     "output_type": "execute_result"
    },
    {
     "data": {
      "image/png": "[encoded data removed]",
      "text/plain": [
       "<Figure size 432x288 with 2 Axes>"
      ]
     },
     "metadata": {
      "needs_background": "light"
     },
     "output_type": "display_data"
    }
   ],
   "source": [
    "import seaborn as sns\n",
    "sns.heatmap(corrmatnew,xticklabels=corrmat.columns,\n",
    "        yticklabels=corrmat.columns)"
   ]
  },
  {
   "cell_type": "markdown",
   "metadata": {},
   "source": [
    "### <font color=\"blue\">Feature Engineering(variable selection)</font>"
   ]
  },
  {
   "cell_type": "code",
   "execution_count": 161,
   "metadata": {},
   "outputs": [],
   "source": [
    "df=df.drop('order_date', axis=1)"
   ]
  },
  {
   "cell_type": "code",
   "execution_count": 162,
   "metadata": {},
   "outputs": [],
   "source": [
    "validation_data=df[df['Monthno'].isin(['21.0','20.0'])]"
   ]
  },
  {
   "cell_type": "code",
   "execution_count": 163,
   "metadata": {},
   "outputs": [],
   "source": [
    "train_data=df.loc[0:903982]"
   ]
  },
  {
   "cell_type": "code",
   "execution_count": 164,
   "metadata": {},
   "outputs": [],
   "source": [
    "X = train_data.drop(['revenue'] ,axis=1)\n",
    "y = train_data['revenue'] "
   ]
  },
  {
   "cell_type": "code",
   "execution_count": 165,
   "metadata": {},
   "outputs": [],
   "source": [
    "#X.to_csv('X_data_finalbig.csv')\n",
    "#y.to_csv('y_data_finalbig.csv')"
   ]
  },
  {
   "cell_type": "code",
   "execution_count": 166,
   "metadata": {},
   "outputs": [
    {
     "data": {
      "text/plain": [
       "((507677, 10), (217576, 10))"
      ]
     },
     "execution_count": 166,
     "metadata": {},
     "output_type": "execute_result"
    }
   ],
   "source": [
    "X_train, X_test, y_train, y_test = train_test_split(X, y, test_size=0.3, random_state=101)\n",
    "X_train.shape,X_test.shape"
   ]
  },
  {
   "cell_type": "code",
   "execution_count": 167,
   "metadata": {},
   "outputs": [],
   "source": [
    "from sklearn.linear_model import Lasso\n",
    "from sklearn.feature_selection import SelectFromModel"
   ]
  },
  {
   "cell_type": "code",
   "execution_count": 168,
   "metadata": {},
   "outputs": [],
   "source": [
    "from sklearn.linear_model import Lasso\n",
    "from sklearn.feature_selection import SelectFromModel"
   ]
  },
  {
   "cell_type": "code",
   "execution_count": 171,
   "metadata": {},
   "outputs": [
    {
     "data": {
      "text/plain": [
       "SelectFromModel(estimator=Lasso(alpha=0.005, copy_X=True, fit_intercept=True,\n",
       "                                max_iter=1000, normalize=False, positive=False,\n",
       "                                precompute=False, random_state=0,\n",
       "                                selection='cyclic', tol=0.0001,\n",
       "                                warm_start=False),\n",
       "                max_features=None, norm_order=1, prefit=False, threshold=None)"
      ]
     },
     "execution_count": 171,
     "metadata": {},
     "output_type": "execute_result"
    }
   ],
   "source": [
    "## Feature selection of most predictive features using lasso regression.\n",
    "sel_ = SelectFromModel(Lasso(alpha=0.005, random_state=0))\n",
    "sel_.fit(X_train, y_train)"
   ]
  },
  {
   "cell_type": "code",
   "execution_count": 172,
   "metadata": {},
   "outputs": [
    {
     "name": "stdout",
     "output_type": "stream",
     "text": [
      "total features: 10\n",
      "selected features: 10\n",
      "features with coefficients shrank to zero: 0\n"
     ]
    },
    {
     "data": {
      "text/plain": [
       "Index(['order_id', 'order_item_id', 'product_id', 'product_category_name',\n",
       "       'customer_id', 'payment_type', 'price', 'Monthno', 'Day', 'week'],\n",
       "      dtype='object')"
      ]
     },
     "execution_count": 172,
     "metadata": {},
     "output_type": "execute_result"
    }
   ],
   "source": [
    "selected_feats = X_train.columns[(sel_.get_support())]\n",
    "\n",
    "# let's print some stats\n",
    "print('total features: {}'.format((X_train.shape[1])))\n",
    "print('selected features: {}'.format(len(selected_feats)))\n",
    "print('features with coefficients shrank to zero: {}'.format(\n",
    "    np.sum(sel_.estimator_.coef_ == 0)))\n",
    "# printing the selected features\n",
    "selected_feats"
   ]
  },
  {
   "cell_type": "code",
   "execution_count": 173,
   "metadata": {},
   "outputs": [
    {
     "data": {
      "text/plain": [
       "Index(['order_id', 'order_item_id', 'product_id', 'product_category_name',\n",
       "       'customer_id', 'payment_type', 'price', 'Monthno', 'Day', 'week'],\n",
       "      dtype='object')"
      ]
     },
     "execution_count": 173,
     "metadata": {},
     "output_type": "execute_result"
    }
   ],
   "source": [
    "selected_feats = X_train.columns[(sel_.estimator_.coef_ != 0).ravel().tolist()]\n",
    "\n",
    "selected_feats"
   ]
  },
  {
   "cell_type": "markdown",
   "metadata": {},
   "source": [
    "### <font color=\"red\">All columns have the best feature with respect to revenue column</font>"
   ]
  },
  {
   "cell_type": "markdown",
   "metadata": {},
   "source": [
    "### <font color=\"blue\">Checking if any column is overfitting</font>"
   ]
  },
  {
   "cell_type": "code",
   "execution_count": 174,
   "metadata": {},
   "outputs": [
    {
     "name": "stdout",
     "output_type": "stream",
     "text": [
      "[]\n"
     ]
    }
   ],
   "source": [
    "X = df\n",
    "overfit = []\n",
    "for i in X.columns:\n",
    "    counts = X[i].value_counts()\n",
    "    zeros = counts.iloc[0]\n",
    "    if zeros / len(X) * 100 > 99.95:\n",
    "        overfit.append(i)\n",
    "\n",
    "overfit = list(overfit)\n",
    "print(overfit) "
   ]
  },
  {
   "cell_type": "markdown",
   "metadata": {},
   "source": [
    "### <font color=\"red\">Overfit is empty i.e. no overfitting</font>"
   ]
  },
  {
   "cell_type": "markdown",
   "metadata": {},
   "source": [
    " "
   ]
  },
  {
   "cell_type": "markdown",
   "metadata": {},
   "source": [
    " "
   ]
  },
  {
   "cell_type": "markdown",
   "metadata": {},
   "source": [
    " "
   ]
  },
  {
   "cell_type": "markdown",
   "metadata": {},
   "source": [
    " "
   ]
  },
  {
   "cell_type": "markdown",
   "metadata": {},
   "source": [
    "## <font color=\"orange\">Building regression models</font>"
   ]
  },
  {
   "cell_type": "code",
   "execution_count": 175,
   "metadata": {},
   "outputs": [],
   "source": [
    "X_train = train_data.drop('revenue', axis = 1)\n",
    "Y_train = train_data['revenue']\n",
    "X_test = X_train\n"
   ]
  },
  {
   "cell_type": "code",
   "execution_count": 176,
   "metadata": {},
   "outputs": [
    {
     "data": {
      "text/html": [
       "<div>\n",
       "<style scoped>\n",
       "    .dataframe tbody tr th:only-of-type {\n",
       "        vertical-align: middle;\n",
       "    }\n",
       "\n",
       "    .dataframe tbody tr th {\n",
       "        vertical-align: top;\n",
       "    }\n",
       "\n",
       "    .dataframe thead th {\n",
       "        text-align: right;\n",
       "    }\n",
       "</style>\n",
       "<table border=\"1\" class=\"dataframe\">\n",
       "  <thead>\n",
       "    <tr style=\"text-align: right;\">\n",
       "      <th></th>\n",
       "      <th>order_id</th>\n",
       "      <th>order_item_id</th>\n",
       "      <th>product_id</th>\n",
       "      <th>product_category_name</th>\n",
       "      <th>customer_id</th>\n",
       "      <th>payment_type</th>\n",
       "      <th>price</th>\n",
       "      <th>Monthno</th>\n",
       "      <th>Day</th>\n",
       "      <th>week</th>\n",
       "    </tr>\n",
       "  </thead>\n",
       "  <tbody>\n",
       "    <tr>\n",
       "      <th>0</th>\n",
       "      <td>0.622949</td>\n",
       "      <td>0.00</td>\n",
       "      <td>0.166651</td>\n",
       "      <td>72</td>\n",
       "      <td>0.560714</td>\n",
       "      <td>1</td>\n",
       "      <td>89.90</td>\n",
       "      <td>1.0</td>\n",
       "      <td>6</td>\n",
       "      <td>40</td>\n",
       "    </tr>\n",
       "    <tr>\n",
       "      <th>1</th>\n",
       "      <td>0.208966</td>\n",
       "      <td>0.05</td>\n",
       "      <td>0.176702</td>\n",
       "      <td>44</td>\n",
       "      <td>0.104575</td>\n",
       "      <td>0</td>\n",
       "      <td>38.00</td>\n",
       "      <td>1.0</td>\n",
       "      <td>7</td>\n",
       "      <td>40</td>\n",
       "    </tr>\n",
       "    <tr>\n",
       "      <th>2</th>\n",
       "      <td>0.208966</td>\n",
       "      <td>0.05</td>\n",
       "      <td>0.176702</td>\n",
       "      <td>44</td>\n",
       "      <td>0.104575</td>\n",
       "      <td>0</td>\n",
       "      <td>38.00</td>\n",
       "      <td>1.0</td>\n",
       "      <td>7</td>\n",
       "      <td>40</td>\n",
       "    </tr>\n",
       "    <tr>\n",
       "      <th>3</th>\n",
       "      <td>0.208966</td>\n",
       "      <td>0.05</td>\n",
       "      <td>0.176702</td>\n",
       "      <td>44</td>\n",
       "      <td>0.104575</td>\n",
       "      <td>0</td>\n",
       "      <td>38.00</td>\n",
       "      <td>1.0</td>\n",
       "      <td>7</td>\n",
       "      <td>40</td>\n",
       "    </tr>\n",
       "    <tr>\n",
       "      <th>4</th>\n",
       "      <td>0.208966</td>\n",
       "      <td>0.05</td>\n",
       "      <td>0.176702</td>\n",
       "      <td>44</td>\n",
       "      <td>0.104575</td>\n",
       "      <td>0</td>\n",
       "      <td>38.00</td>\n",
       "      <td>1.0</td>\n",
       "      <td>7</td>\n",
       "      <td>40</td>\n",
       "    </tr>\n",
       "    <tr>\n",
       "      <th>...</th>\n",
       "      <td>...</td>\n",
       "      <td>...</td>\n",
       "      <td>...</td>\n",
       "      <td>...</td>\n",
       "      <td>...</td>\n",
       "      <td>...</td>\n",
       "      <td>...</td>\n",
       "      <td>...</td>\n",
       "      <td>...</td>\n",
       "      <td>...</td>\n",
       "    </tr>\n",
       "    <tr>\n",
       "      <th>903978</th>\n",
       "      <td>0.297460</td>\n",
       "      <td>0.10</td>\n",
       "      <td>0.866840</td>\n",
       "      <td>13</td>\n",
       "      <td>0.330732</td>\n",
       "      <td>3</td>\n",
       "      <td>29.99</td>\n",
       "      <td>19.0</td>\n",
       "      <td>7</td>\n",
       "      <td>23</td>\n",
       "    </tr>\n",
       "    <tr>\n",
       "      <th>903979</th>\n",
       "      <td>0.634999</td>\n",
       "      <td>0.00</td>\n",
       "      <td>0.043789</td>\n",
       "      <td>11</td>\n",
       "      <td>0.010045</td>\n",
       "      <td>1</td>\n",
       "      <td>66.71</td>\n",
       "      <td>19.0</td>\n",
       "      <td>3</td>\n",
       "      <td>22</td>\n",
       "    </tr>\n",
       "    <tr>\n",
       "      <th>903980</th>\n",
       "      <td>0.331390</td>\n",
       "      <td>0.05</td>\n",
       "      <td>0.287163</td>\n",
       "      <td>53</td>\n",
       "      <td>0.427380</td>\n",
       "      <td>3</td>\n",
       "      <td>139.00</td>\n",
       "      <td>19.0</td>\n",
       "      <td>13</td>\n",
       "      <td>24</td>\n",
       "    </tr>\n",
       "    <tr>\n",
       "      <th>903981</th>\n",
       "      <td>0.297460</td>\n",
       "      <td>0.10</td>\n",
       "      <td>0.866840</td>\n",
       "      <td>13</td>\n",
       "      <td>0.330732</td>\n",
       "      <td>3</td>\n",
       "      <td>29.99</td>\n",
       "      <td>19.0</td>\n",
       "      <td>7</td>\n",
       "      <td>23</td>\n",
       "    </tr>\n",
       "    <tr>\n",
       "      <th>903982</th>\n",
       "      <td>0.297460</td>\n",
       "      <td>0.10</td>\n",
       "      <td>0.866840</td>\n",
       "      <td>13</td>\n",
       "      <td>0.330732</td>\n",
       "      <td>3</td>\n",
       "      <td>29.99</td>\n",
       "      <td>19.0</td>\n",
       "      <td>7</td>\n",
       "      <td>23</td>\n",
       "    </tr>\n",
       "  </tbody>\n",
       "</table>\n",
       "<p>725253 rows × 10 columns</p>\n",
       "</div>"
      ],
      "text/plain": [
       "        order_id  order_item_id  product_id  product_category_name  \\\n",
       "0       0.622949           0.00    0.166651                     72   \n",
       "1       0.208966           0.05    0.176702                     44   \n",
       "2       0.208966           0.05    0.176702                     44   \n",
       "3       0.208966           0.05    0.176702                     44   \n",
       "4       0.208966           0.05    0.176702                     44   \n",
       "...          ...            ...         ...                    ...   \n",
       "903978  0.297460           0.10    0.866840                     13   \n",
       "903979  0.634999           0.00    0.043789                     11   \n",
       "903980  0.331390           0.05    0.287163                     53   \n",
       "903981  0.297460           0.10    0.866840                     13   \n",
       "903982  0.297460           0.10    0.866840                     13   \n",
       "\n",
       "        customer_id  payment_type   price  Monthno  Day  week  \n",
       "0          0.560714             1   89.90      1.0    6    40  \n",
       "1          0.104575             0   38.00      1.0    7    40  \n",
       "2          0.104575             0   38.00      1.0    7    40  \n",
       "3          0.104575             0   38.00      1.0    7    40  \n",
       "4          0.104575             0   38.00      1.0    7    40  \n",
       "...             ...           ...     ...      ...  ...   ...  \n",
       "903978     0.330732             3   29.99     19.0    7    23  \n",
       "903979     0.010045             1   66.71     19.0    3    22  \n",
       "903980     0.427380             3  139.00     19.0   13    24  \n",
       "903981     0.330732             3   29.99     19.0    7    23  \n",
       "903982     0.330732             3   29.99     19.0    7    23  \n",
       "\n",
       "[725253 rows x 10 columns]"
      ]
     },
     "execution_count": 176,
     "metadata": {},
     "output_type": "execute_result"
    }
   ],
   "source": [
    "X_train"
   ]
  },
  {
   "cell_type": "code",
   "execution_count": 177,
   "metadata": {},
   "outputs": [
    {
     "data": {
      "text/plain": [
       "0         117.86\n",
       "1         218.87\n",
       "2         218.87\n",
       "3         218.87\n",
       "4         218.87\n",
       "           ...  \n",
       "903978     39.42\n",
       "903979     74.10\n",
       "903980     27.11\n",
       "903981     39.42\n",
       "903982     39.42\n",
       "Name: revenue, Length: 725253, dtype: float64"
      ]
     },
     "execution_count": 177,
     "metadata": {},
     "output_type": "execute_result"
    }
   ],
   "source": [
    "Y_train"
   ]
  },
  {
   "cell_type": "code",
   "execution_count": 178,
   "metadata": {},
   "outputs": [],
   "source": [
    "from datetime import datetime\n",
    "from sklearn.preprocessing import RobustScaler\n",
    "from sklearn.model_selection import KFold, cross_val_score\n",
    "from sklearn.metrics import mean_squared_error, make_scorer, accuracy_score\n",
    "from sklearn.linear_model import ElasticNetCV, LassoCV, RidgeCV\n",
    "from sklearn.pipeline import make_pipeline\n",
    "from sklearn.linear_model import LinearRegression\n",
    "from sklearn.ensemble import GradientBoostingRegressor\n",
    "from mlxtend.regressor import StackingCVRegressor\n",
    "from xgboost import XGBRegressor\n",
    "from lightgbm import LGBMRegressor\n",
    "import math\n",
    "from math import sqrt"
   ]
  },
  {
   "cell_type": "code",
   "execution_count": 179,
   "metadata": {},
   "outputs": [],
   "source": [
    "#Defining folds and score functions\n",
    "\n",
    "kfolds = KFold(n_splits=5, shuffle=True, random_state=42)\n",
    "\n",
    "# model scoring and validation function\n",
    "def cv_rmse(model, X_train=X_train):\n",
    "    rmse = np.sqrt(-cross_val_score(model, X_train, Y_train,scoring=\"neg_mean_squared_error\",cv=kfolds))\n",
    "    return (rmse)\n",
    "\n",
    "# rmsle scoring function\n",
    "def rmsle(y, y_pred):\n",
    "    return np.sqrt(mean_squared_error(y, y_pred))"
   ]
  },
  {
   "cell_type": "code",
   "execution_count": 180,
   "metadata": {},
   "outputs": [],
   "source": [
    "#Defining models\n",
    "lightgbm = LGBMRegressor(objective='regression', \n",
    "                                       num_leaves=4,\n",
    "                                       learning_rate=0.01, \n",
    "                                       n_estimators=10000,\n",
    "                                       max_bin=200, \n",
    "                                       bagging_fraction=0.75,\n",
    "                                       bagging_freq=5, \n",
    "                                       bagging_seed=7,\n",
    "                                       feature_fraction=0.2, # 'was 0.2'\n",
    "                                       feature_fraction_seed=7,\n",
    "                                       verbose=-1,\n",
    "                                       )\n",
    "\n",
    "xgboost = XGBRegressor(learning_rate=0.01,n_estimators=3460,\n",
    "                                      max_depth=3, min_child_weight=0,\n",
    "                                      gamma=0, subsample=0.7,\n",
    "                                      colsample_bytree=0.7,\n",
    "                                      objective='reg:linear', nthread=-1,\n",
    "                                      scale_pos_weight=1, seed=27,\n",
    "                                      reg_alpha=0.00006)\n",
    "\n",
    "\n",
    "\n",
    "# seting up models hyperparameters using a pipline\n",
    "# The purpose of the pipeline is to assemble several steps that can be cross-validated together, \n",
    "# while setting different parameters.\n",
    "# This is a range of values that the model considers each time in runs a CV\n",
    "e_alphas = [0.0001, 0.0002, 0.0003, 0.0004, 0.0005, 0.0006, 0.0007]\n",
    "e_l1ratio = [0.8, 0.85, 0.9, 0.95, 0.99, 1]\n",
    "alphas_alt = [14.5, 14.6, 14.7, 14.8, 14.9, 15, 15.1, 15.2, 15.3, 15.4, 15.5]\n",
    "alphas2 = [5e-05, 0.0001, 0.0002, 0.0003, 0.0004, 0.0005, 0.0006, 0.0007, 0.0008]\n",
    "\n",
    "\n",
    "\n",
    "\n",
    "# Kernel Ridge Regression : made robust to outliers\n",
    "ridge = make_pipeline(RobustScaler(), RidgeCV(alphas=alphas_alt, cv=kfolds))\n",
    "\n",
    "# LASSO Regression : made robust to outliers\n",
    "lasso = make_pipeline(RobustScaler(), LassoCV(max_iter=1e7, \n",
    "                    alphas=alphas2,random_state=42, cv=kfolds))\n",
    "\n",
    "# Elastic Net Regression : made robust to outliers\n",
    "elasticnet = make_pipeline(RobustScaler(), ElasticNetCV(max_iter=1e7, \n",
    "                         alphas=e_alphas, cv=kfolds, l1_ratio=e_l1ratio))\n",
    "\n",
    "\n",
    "stack_gen = StackingCVRegressor(regressors=(ridge, elasticnet, lightgbm),\n",
    "                                meta_regressor=elasticnet,\n",
    "                                use_features_in_secondary=True)"
   ]
  },
  {
   "cell_type": "code",
   "execution_count": 181,
   "metadata": {},
   "outputs": [
    {
     "name": "stderr",
     "output_type": "stream",
     "text": [
      "C:\\Users\\mukes\\AppData\\Local\\Continuum\\anaconda3\\lib\\site-packages\\ipykernel_launcher.py:14: RuntimeWarning: overflow encountered in expm1\n",
      "  \n",
      "C:\\Users\\mukes\\AppData\\Local\\Continuum\\anaconda3\\lib\\site-packages\\ipykernel_launcher.py:14: RuntimeWarning: overflow encountered in expm1\n",
      "  \n",
      "C:\\Users\\mukes\\AppData\\Local\\Continuum\\anaconda3\\lib\\site-packages\\ipykernel_launcher.py:14: RuntimeWarning: overflow encountered in expm1\n",
      "  \n",
      "C:\\Users\\mukes\\AppData\\Local\\Continuum\\anaconda3\\lib\\site-packages\\ipykernel_launcher.py:14: RuntimeWarning: overflow encountered in expm1\n",
      "  \n"
     ]
    },
    {
     "name": "stdout",
     "output_type": "stream",
     "text": [
      "[11:45:16] WARNING: C:/Users/Administrator/workspace/xgboost-win64_release_1.0.0/src/objective/regression_obj.cu:167: reg:linear is now deprecated in favor of reg:squarederror.\n"
     ]
    },
    {
     "name": "stderr",
     "output_type": "stream",
     "text": [
      "C:\\Users\\mukes\\AppData\\Local\\Continuum\\anaconda3\\lib\\site-packages\\ipykernel_launcher.py:14: RuntimeWarning: overflow encountered in expm1\n",
      "  \n"
     ]
    },
    {
     "name": "stdout",
     "output_type": "stream",
     "text": [
      "[11:56:07] WARNING: C:/Users/Administrator/workspace/xgboost-win64_release_1.0.0/src/objective/regression_obj.cu:167: reg:linear is now deprecated in favor of reg:squarederror.\n",
      "[12:04:35] WARNING: C:/Users/Administrator/workspace/xgboost-win64_release_1.0.0/src/objective/regression_obj.cu:167: reg:linear is now deprecated in favor of reg:squarederror.\n",
      "[12:21:39] WARNING: C:/Users/Administrator/workspace/xgboost-win64_release_1.0.0/src/objective/regression_obj.cu:167: reg:linear is now deprecated in favor of reg:squarederror.\n",
      "[12:32:27] WARNING: C:/Users/Administrator/workspace/xgboost-win64_release_1.0.0/src/objective/regression_obj.cu:167: reg:linear is now deprecated in favor of reg:squarederror.\n",
      "[12:41:47] WARNING: C:/Users/Administrator/workspace/xgboost-win64_release_1.0.0/src/objective/regression_obj.cu:167: reg:linear is now deprecated in favor of reg:squarederror.\n",
      "---- Score with CV_RMSLE-----\n",
      "Ridge score: 443.8525 (3.6034)\n",
      "\n",
      "Lasso score: 443.8525 (3.6033)\n",
      "\n",
      "ElasticNet score: 443.8525 (3.6036)\n",
      "\n",
      "lightgbm score: 147.8685 (0.4617)\n",
      "\n",
      "[12:59:30] WARNING: C:/Users/Administrator/workspace/xgboost-win64_release_1.0.0/src/objective/regression_obj.cu:167: reg:linear is now deprecated in favor of reg:squarederror.\n",
      "[13:13:30] WARNING: C:/Users/Administrator/workspace/xgboost-win64_release_1.0.0/src/objective/regression_obj.cu:167: reg:linear is now deprecated in favor of reg:squarederror.\n",
      "[13:22:42] WARNING: C:/Users/Administrator/workspace/xgboost-win64_release_1.0.0/src/objective/regression_obj.cu:167: reg:linear is now deprecated in favor of reg:squarederror.\n",
      "[13:31:12] WARNING: C:/Users/Administrator/workspace/xgboost-win64_release_1.0.0/src/objective/regression_obj.cu:167: reg:linear is now deprecated in favor of reg:squarederror.\n",
      "[13:40:01] WARNING: C:/Users/Administrator/workspace/xgboost-win64_release_1.0.0/src/objective/regression_obj.cu:167: reg:linear is now deprecated in favor of reg:squarederror.\n",
      "xgboost score: 134.3269 (1.3672)\n",
      "\n"
     ]
    }
   ],
   "source": [
    "# store models, scores and prediction values \n",
    "models = {'Ridge': ridge,\n",
    "          'Lasso': lasso, \n",
    "          'ElasticNet': elasticnet,\n",
    "          'lightgbm': lightgbm,\n",
    "          'xgboost': xgboost}\n",
    "predictions = {}\n",
    "scores = {}\n",
    "\n",
    "#Training the models\n",
    "for name, model in models.items():\n",
    "    \n",
    "    model.fit(X_train, Y_train)\n",
    "    predictions[name] = np.expm1(model.predict(X_test))   #This mathematical function helps user to calculate exponential of all the elements subtracting 1 from all the input array elements.\n",
    "    score = cv_rmse(model, X_train=X_train)\n",
    "    scores[name] = (score.mean(), score.std())\n",
    "    \n",
    "#Validating and training each model\n",
    "#performance of each model on training data(validation set)\n",
    "print('---- Score with CV_RMSLE-----')\n",
    "score = cv_rmse(ridge)\n",
    "print(\"Ridge score: {:.4f} ({:.4f})\\n\".format(score.mean(), score.std()))\n",
    "\n",
    "score = cv_rmse(lasso)\n",
    "print(\"Lasso score: {:.4f} ({:.4f})\\n\".format(score.mean(), score.std()))\n",
    "\n",
    "score = cv_rmse(elasticnet)\n",
    "print(\"ElasticNet score: {:.4f} ({:.4f})\\n\".format(score.mean(), score.std()))\n",
    "\n",
    "score = cv_rmse(lightgbm)\n",
    "print(\"lightgbm score: {:.4f} ({:.4f})\\n\".format(score.mean(), score.std()))\n",
    "\n",
    "score = cv_rmse(xgboost)\n",
    "print(\"xgboost score: {:.4f} ({:.4f})\\n\".format(score.mean(), score.std()))"
   ]
  },
  {
   "cell_type": "code",
   "execution_count": 182,
   "metadata": {},
   "outputs": [
    {
     "name": "stdout",
     "output_type": "stream",
     "text": [
      "----START Fit---- 2020-04-19 13:48:46.561462\n",
      "Elasticnet\n",
      "Lasso\n",
      "Ridge\n",
      "lightgbm\n",
      "xgboost\n",
      "[13:50:41] WARNING: C:/Users/Administrator/workspace/xgboost-win64_release_1.0.0/src/objective/regression_obj.cu:167: reg:linear is now deprecated in favor of reg:squarederror.\n",
      "stack_gen\n"
     ]
    }
   ],
   "source": [
    "#Fit the training data X, y\n",
    "print('----START Fit----',datetime.now())\n",
    "print('Elasticnet')\n",
    "elastic_model = elasticnet.fit(X_train, Y_train)\n",
    "print('Lasso')\n",
    "lasso_model = lasso.fit(X_train, Y_train)\n",
    "print('Ridge')\n",
    "ridge_model = ridge.fit(X_train, Y_train)\n",
    "print('lightgbm')\n",
    "lgb_model_full_data = lightgbm.fit(X_train, Y_train)\n",
    "\n",
    "print('xgboost')\n",
    "xgb_model_full_data = xgboost.fit(X_train, Y_train)\n",
    "\n",
    "\n",
    "print('stack_gen')\n",
    "stack_gen_model = stack_gen.fit(np.array(X_train), np.array(Y_train))\n",
    "\n",
    "#Blend model prediction\n",
    "def blend_models_predict(X_test):\n",
    "    return ((0.2  * elastic_model.predict(X_test)) + \\\n",
    "            (0.25 * lasso_model.predict(X_test)) + \\\n",
    "            (0.2 * ridge_model.predict(X_test)) + \\\n",
    "            (0.15 * lgb_model_full_data.predict(X_test)) + \\\n",
    "             (0.1 * xgb_model_full_data.predict(X_test)) + \\\n",
    "            (0.2 * stack_gen_model.predict(np.array(X_test))))\n",
    "pred =  blend_models_predict(X_test)"
   ]
  },
  {
   "cell_type": "markdown",
   "metadata": {},
   "source": [
    "## <font color=\"orange\">Evaluation of the regression models of larger dataset</font>"
   ]
  },
  {
   "cell_type": "code",
   "execution_count": 183,
   "metadata": {},
   "outputs": [
    {
     "name": "stdout",
     "output_type": "stream",
     "text": [
      "RMSLE score on train data:\n",
      "278.7630605965894\n",
      "Test MSE: 77708.844\n",
      "Test rmse: 278.763\n",
      "R Squared value: 0.774\n",
      "MAPE: 67.477121\n"
     ]
    }
   ],
   "source": [
    "print('RMSLE score on train data:')\n",
    "print(rmsle(Y_train,pred))\n",
    "\n",
    "\n",
    "error = mean_squared_error(Y_train, pred)\n",
    "print('Test MSE: %.3f' % error)\n",
    "rmse = sqrt(error)\n",
    "print('Test rmse: %.3f' % rmse)\n",
    "\n",
    "from sklearn.metrics import r2_score\n",
    "r2score = r2_score(Y_train, pred,sample_weight=None, multioutput='uniform_average')\n",
    "print('R Squared value: %.3f' % r2score)\n",
    "\n",
    "#Mean absolute percantage error\n",
    "num = abs(pred-Y_train).sum()\n",
    "den = abs(Y_train).sum()\n",
    "\n",
    "mape = (num/den)*100\n",
    "print('MAPE: %3f' %mape)"
   ]
  },
  {
   "cell_type": "code",
   "execution_count": 184,
   "metadata": {},
   "outputs": [
    {
     "data": {
      "text/plain": [
       "Text(0, 0.5, 'Predicted revenue')"
      ]
     },
     "execution_count": 184,
     "metadata": {},
     "output_type": "execute_result"
    },
    {
     "data": {
      "image/png": "[encoded data removed]",
      "text/plain": [
       "<Figure size 432x288 with 1 Axes>"
      ]
     },
     "metadata": {
      "needs_background": "light"
     },
     "output_type": "display_data"
    }
   ],
   "source": [
    "plt.scatter(Y_train,pred)\n",
    "plt.xlabel('Revenue')\n",
    "plt.ylabel('Predicted revenue')"
   ]
  },
  {
   "cell_type": "markdown",
   "metadata": {},
   "source": [
    "<ul style=\"list-style-type:disc;\" size=5>\n",
    "  <li>After applying five best regression algorithms on revenue column.</li>\n",
    "\n",
    "  <li>Accuracy of the model is 100-MAPE =100-67.47712 =32.5229% </li>\n",
    "  <li>Accuracy compared to smaller dataset is very low and it depends on the data and it's column values.</li>\n",
    "  <li>Data choosed as larger data set is a original data and not a made up dataset so it has few repeatative values in large numbers in dependent variable(Y_train) and this values cannot be dropped as it will reduce the size of the dataset and  such cases happens in real business scenario.</li>\n",
    "  <li>After applying box cox and log transformation to normalize the revenue column, values get converted to nan, infinite which was not in an appropriate format to apply ml algorithms.</li>\n",
    "</ul>"
   ]
  },
  {
   "cell_type": "markdown",
   "metadata": {},
   "source": [
    "<table>\n",
    "  <tr>\n",
    "    <th>Statistical measures</th>\n",
    "    <th>Regression model</th>\n",
    "    <th>Time-Series Analysis</th>\n",
    "  </tr>\n",
    "  <tr>\n",
    "    <td>Smaller data-Mape</td>\n",
    "    <td>10.00</td>\n",
    "    <td>56.43</td>\n",
    "  </tr>\n",
    "  <tr>\n",
    "    <td>Accuracy in percentage</td>\n",
    "    <td>90%</td>\n",
    "    <td>43.73</td>\n",
    "  </tr>\n",
    "  <tr>\n",
    "    <td>Larger data-Mape</td>\n",
    "    <td>32.5229%</td>\n",
    "    <td>25.29</td>\n",
    "  </tr>\n",
    "  <tr>\n",
    "    <td>Accuracy in percentage</td>\n",
    "    <td>32.52%</td>\n",
    "    <td>74.71</td>\n",
    "  </tr>\n",
    "  \n",
    "</table>"
   ]
  },
  {
   "cell_type": "markdown",
   "metadata": {},
   "source": [
    "### <font color=\"orange\">Conclusion for best model, ARIMA or regression to use for prediction!.</font>"
   ]
  },
  {
   "cell_type": "markdown",
   "metadata": {},
   "source": [
    "* To predict/forecast sales revenue of ecommerce data, time-series and regression models has been applied.\n",
    "* Larger data set gave good accuracy as compared to smaller dataset in time-series analysis.\n",
    "* Time-series approaches for sales forecasting has limitations, such as it needs to have historical data for a long time period to capture seasonality.\n",
    "* Regression algorithms captures the patterns which exist in the whole set of stores or products to predict future sales.\n",
    "* Hence, sales prediction is rather a regression problem than a time series problem as we can find complicated patterns in sales dynamics and it is independent of size and shape of the dataset.\n",
    "* Whereas to forecast future sales, it is simple using time-series ARIMA model as it requires only two column price and daterange."
   ]
  },
  {
   "cell_type": "markdown",
   "metadata": {},
   "source": [
    "                                                                                                   Thank You"
   ]
  }
 ],
 "metadata": {
  "kernelspec": {
   "display_name": "Python 3",
   "language": "python",
   "name": "python3"
  },
  "language_info": {
   "codemirror_mode": {
    "name": "ipython",
    "version": 3
   },
   "file_extension": ".py",
   "mimetype": "text/x-python",
   "name": "python",
   "nbconvert_exporter": "python",
   "pygments_lexer": "ipython3",
   "version": "3.7.4"
  }
 },
 "nbformat": 4,
 "nbformat_minor": 2
}
